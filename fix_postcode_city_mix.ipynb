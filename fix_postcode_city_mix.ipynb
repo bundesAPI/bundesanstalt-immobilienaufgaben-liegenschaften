{
 "cells": [
  {
   "cell_type": "code",
   "execution_count": 1,
   "metadata": {
    "collapsed": true
   },
   "outputs": [],
   "source": [
    "import pandas as pd"
   ]
  },
  {
   "cell_type": "code",
   "execution_count": 2,
   "outputs": [],
   "source": [
    "data_types_broken ={\n",
    "    \"id\" : pd.Int64Dtype(),\n",
    "    \"postcode\" : str\t,\n",
    "    \"city\": str,\n",
    "    \"street\" : str,\n",
    "    \"area\" : \"category\",\n",
    "    \"user\" : \"category\",\n",
    "    \"size\": float\n",
    "}"
   ],
   "metadata": {
    "collapsed": false,
    "pycharm": {
     "name": "#%%\n"
    }
   }
  },
  {
   "cell_type": "code",
   "execution_count": 3,
   "outputs": [],
   "source": [
    "df = pd.read_csv(\"Anlage_wo_pwd.tsv\", delimiter=\"\\t\" , decimal=\",\", dtype=data_types_broken)"
   ],
   "metadata": {
    "collapsed": false,
    "pycharm": {
     "name": "#%%\n"
    }
   }
  },
  {
   "cell_type": "markdown",
   "source": [
    "### 1. Find broken postcodes"
   ],
   "metadata": {
    "collapsed": false
   }
  },
  {
   "cell_type": "code",
   "execution_count": 4,
   "outputs": [
    {
     "data": {
      "text/plain": "            id                     postcode  \\\n4888      5001               14552 Gemeinde   \n4891      5004            15827Blankenfelde   \n17773    18182                 15713 Königs   \n65685    66105             72525 Gutsbezirk   \n66789    66833                   01825 Bad    \n69421    68569                   01825 Bad    \n69426    68572                   01825 Bad    \n69434    68577                   01825 Bad    \n69441    68582                   01825 Bad    \n69959    68924                   01825 Bad    \n70825    69494             72525 Gutsbezirk   \n87401    80422                  15713Königs   \n88197    80947                  15713Königs   \n88232    80969                  15713Königs   \n110638   95741                  15713Königs   \n110773   95830      14621 Schönwalde-Glien/   \n117855  100500                 15713 Königs   \n117901  100530      14621 Schönwalde-Glien/   \n119605  101654  16321 Ahrensfelde-Blumberg,   \n119646  101680                 15713 Königs   \n\n                                        city                  street  \\\n4888            Michendorf/ OT Wilhelmshorst       An den Bergen 121   \n4891                - Mahlow OT Blankenfelde       Trebbiner Damm 28   \n17773              Wusterhausen OT Wernsdorf           Am Sandberg 5   \n65685               Münsingen, gemfr. Gebiet             Egelstein 9   \n66789   Gottleuba-Berggießhübel OT Börnersdo      Börnersdorf Nr. 1A   \n69421   Gottleuba-Berggießhübel OT Börnersdo      Börnersdorf Nr. 1A   \n69426   Gottleuba-Berggießhübel OT Börnersdo      Börnersdorf Nr. 1A   \n69434   Gottleuba-Berggießhübel OT Börnersdo      Börnersdorf Nr. 1A   \n69441   Gottleuba-Berggießhübel OT Börnersdo      Börnersdorf Nr. 1A   \n69959   Gottleuba-Berggießhübel OT Börnersdo      Börnersdorf Nr. 1A   \n70825               Münsingen, gemfr. Gebiet             Egelstein 9   \n87401            Wusterhausen OT Niederlehme  Wernsdorfer Straße 99b   \n88197            Wusterhausen OT Niederlehme  Wernsdorfer Straße 99b   \n88232            Wusterhausen OT Niederlehme  Wernsdorfer Straße 99b   \n110638           Wusterhausen OT Niederlehme            Seestraße 61   \n110773                OT Schönwalde Siedlung           Birkenallee 9   \n117855             Wusterhausen OT Wernsdorf     Buchfinkenweg 12a,b   \n117901                OT Schönwalde Siedlung           Birkenallee 7   \n119605                         OT Lindenberg       Krimhildstraße 26   \n119646            Wusterhausen / Niederlehme   Wernsdorfer Str. 92 a   \n\n                          area           user     size  \n4888    Gewerbe/sonst. Nutzung            NaN  1118.00  \n4891    Gewerbe/sonst. Nutzung            NaN  1385.00  \n17773   Gewerbe/sonst. Nutzung            NaN   440.00  \n65685     Dienstliegenschaften            NaN    98.30  \n66789     Dienstliegenschaften            NaN     0.00  \n69421     Dienstliegenschaften  Bundespolizei    18.00  \n69426     Dienstliegenschaften            NaN   200.00  \n69434     Dienstliegenschaften  Bundespolizei   620.00  \n69441     Dienstliegenschaften  Bundespolizei   836.73  \n69959     Dienstliegenschaften            NaN    27.50  \n70825     Dienstliegenschaften            NaN   163.21  \n87401   Gewerbe/sonst. Nutzung              0  2096.00  \n88197   Gewerbe/sonst. Nutzung            NaN    15.00  \n88232   Gewerbe/sonst. Nutzung              0    50.00  \n110638  Gewerbe/sonst. Nutzung            NaN    45.00  \n110773  Gewerbe/sonst. Nutzung            NaN   917.00  \n117855  Gewerbe/sonst. Nutzung              0   523.00  \n117901  Gewerbe/sonst. Nutzung            NaN   919.00  \n119605  Gewerbe/sonst. Nutzung            NaN   702.00  \n119646  Gewerbe/sonst. Nutzung            NaN  1582.00  ",
      "text/html": "<div>\n<style scoped>\n    .dataframe tbody tr th:only-of-type {\n        vertical-align: middle;\n    }\n\n    .dataframe tbody tr th {\n        vertical-align: top;\n    }\n\n    .dataframe thead th {\n        text-align: right;\n    }\n</style>\n<table border=\"1\" class=\"dataframe\">\n  <thead>\n    <tr style=\"text-align: right;\">\n      <th></th>\n      <th>id</th>\n      <th>postcode</th>\n      <th>city</th>\n      <th>street</th>\n      <th>area</th>\n      <th>user</th>\n      <th>size</th>\n    </tr>\n  </thead>\n  <tbody>\n    <tr>\n      <th>4888</th>\n      <td>5001</td>\n      <td>14552 Gemeinde</td>\n      <td>Michendorf/ OT Wilhelmshorst</td>\n      <td>An den Bergen 121</td>\n      <td>Gewerbe/sonst. Nutzung</td>\n      <td>NaN</td>\n      <td>1118.00</td>\n    </tr>\n    <tr>\n      <th>4891</th>\n      <td>5004</td>\n      <td>15827Blankenfelde</td>\n      <td>- Mahlow OT Blankenfelde</td>\n      <td>Trebbiner Damm 28</td>\n      <td>Gewerbe/sonst. Nutzung</td>\n      <td>NaN</td>\n      <td>1385.00</td>\n    </tr>\n    <tr>\n      <th>17773</th>\n      <td>18182</td>\n      <td>15713 Königs</td>\n      <td>Wusterhausen OT Wernsdorf</td>\n      <td>Am Sandberg 5</td>\n      <td>Gewerbe/sonst. Nutzung</td>\n      <td>NaN</td>\n      <td>440.00</td>\n    </tr>\n    <tr>\n      <th>65685</th>\n      <td>66105</td>\n      <td>72525 Gutsbezirk</td>\n      <td>Münsingen, gemfr. Gebiet</td>\n      <td>Egelstein 9</td>\n      <td>Dienstliegenschaften</td>\n      <td>NaN</td>\n      <td>98.30</td>\n    </tr>\n    <tr>\n      <th>66789</th>\n      <td>66833</td>\n      <td>01825 Bad</td>\n      <td>Gottleuba-Berggießhübel OT Börnersdo</td>\n      <td>Börnersdorf Nr. 1A</td>\n      <td>Dienstliegenschaften</td>\n      <td>NaN</td>\n      <td>0.00</td>\n    </tr>\n    <tr>\n      <th>69421</th>\n      <td>68569</td>\n      <td>01825 Bad</td>\n      <td>Gottleuba-Berggießhübel OT Börnersdo</td>\n      <td>Börnersdorf Nr. 1A</td>\n      <td>Dienstliegenschaften</td>\n      <td>Bundespolizei</td>\n      <td>18.00</td>\n    </tr>\n    <tr>\n      <th>69426</th>\n      <td>68572</td>\n      <td>01825 Bad</td>\n      <td>Gottleuba-Berggießhübel OT Börnersdo</td>\n      <td>Börnersdorf Nr. 1A</td>\n      <td>Dienstliegenschaften</td>\n      <td>NaN</td>\n      <td>200.00</td>\n    </tr>\n    <tr>\n      <th>69434</th>\n      <td>68577</td>\n      <td>01825 Bad</td>\n      <td>Gottleuba-Berggießhübel OT Börnersdo</td>\n      <td>Börnersdorf Nr. 1A</td>\n      <td>Dienstliegenschaften</td>\n      <td>Bundespolizei</td>\n      <td>620.00</td>\n    </tr>\n    <tr>\n      <th>69441</th>\n      <td>68582</td>\n      <td>01825 Bad</td>\n      <td>Gottleuba-Berggießhübel OT Börnersdo</td>\n      <td>Börnersdorf Nr. 1A</td>\n      <td>Dienstliegenschaften</td>\n      <td>Bundespolizei</td>\n      <td>836.73</td>\n    </tr>\n    <tr>\n      <th>69959</th>\n      <td>68924</td>\n      <td>01825 Bad</td>\n      <td>Gottleuba-Berggießhübel OT Börnersdo</td>\n      <td>Börnersdorf Nr. 1A</td>\n      <td>Dienstliegenschaften</td>\n      <td>NaN</td>\n      <td>27.50</td>\n    </tr>\n    <tr>\n      <th>70825</th>\n      <td>69494</td>\n      <td>72525 Gutsbezirk</td>\n      <td>Münsingen, gemfr. Gebiet</td>\n      <td>Egelstein 9</td>\n      <td>Dienstliegenschaften</td>\n      <td>NaN</td>\n      <td>163.21</td>\n    </tr>\n    <tr>\n      <th>87401</th>\n      <td>80422</td>\n      <td>15713Königs</td>\n      <td>Wusterhausen OT Niederlehme</td>\n      <td>Wernsdorfer Straße 99b</td>\n      <td>Gewerbe/sonst. Nutzung</td>\n      <td>0</td>\n      <td>2096.00</td>\n    </tr>\n    <tr>\n      <th>88197</th>\n      <td>80947</td>\n      <td>15713Königs</td>\n      <td>Wusterhausen OT Niederlehme</td>\n      <td>Wernsdorfer Straße 99b</td>\n      <td>Gewerbe/sonst. Nutzung</td>\n      <td>NaN</td>\n      <td>15.00</td>\n    </tr>\n    <tr>\n      <th>88232</th>\n      <td>80969</td>\n      <td>15713Königs</td>\n      <td>Wusterhausen OT Niederlehme</td>\n      <td>Wernsdorfer Straße 99b</td>\n      <td>Gewerbe/sonst. Nutzung</td>\n      <td>0</td>\n      <td>50.00</td>\n    </tr>\n    <tr>\n      <th>110638</th>\n      <td>95741</td>\n      <td>15713Königs</td>\n      <td>Wusterhausen OT Niederlehme</td>\n      <td>Seestraße 61</td>\n      <td>Gewerbe/sonst. Nutzung</td>\n      <td>NaN</td>\n      <td>45.00</td>\n    </tr>\n    <tr>\n      <th>110773</th>\n      <td>95830</td>\n      <td>14621 Schönwalde-Glien/</td>\n      <td>OT Schönwalde Siedlung</td>\n      <td>Birkenallee 9</td>\n      <td>Gewerbe/sonst. Nutzung</td>\n      <td>NaN</td>\n      <td>917.00</td>\n    </tr>\n    <tr>\n      <th>117855</th>\n      <td>100500</td>\n      <td>15713 Königs</td>\n      <td>Wusterhausen OT Wernsdorf</td>\n      <td>Buchfinkenweg 12a,b</td>\n      <td>Gewerbe/sonst. Nutzung</td>\n      <td>0</td>\n      <td>523.00</td>\n    </tr>\n    <tr>\n      <th>117901</th>\n      <td>100530</td>\n      <td>14621 Schönwalde-Glien/</td>\n      <td>OT Schönwalde Siedlung</td>\n      <td>Birkenallee 7</td>\n      <td>Gewerbe/sonst. Nutzung</td>\n      <td>NaN</td>\n      <td>919.00</td>\n    </tr>\n    <tr>\n      <th>119605</th>\n      <td>101654</td>\n      <td>16321 Ahrensfelde-Blumberg,</td>\n      <td>OT Lindenberg</td>\n      <td>Krimhildstraße 26</td>\n      <td>Gewerbe/sonst. Nutzung</td>\n      <td>NaN</td>\n      <td>702.00</td>\n    </tr>\n    <tr>\n      <th>119646</th>\n      <td>101680</td>\n      <td>15713 Königs</td>\n      <td>Wusterhausen / Niederlehme</td>\n      <td>Wernsdorfer Str. 92 a</td>\n      <td>Gewerbe/sonst. Nutzung</td>\n      <td>NaN</td>\n      <td>1582.00</td>\n    </tr>\n  </tbody>\n</table>\n</div>"
     },
     "execution_count": 4,
     "metadata": {},
     "output_type": "execute_result"
    }
   ],
   "source": [
    "df_broken_postcode = df[df[\"postcode\"].fillna(-1).str.strip().str.len() > 5]\n",
    "df_broken_postcode"
   ],
   "metadata": {
    "collapsed": false,
    "pycharm": {
     "name": "#%%\n"
    }
   }
  },
  {
   "cell_type": "markdown",
   "source": [
    "### 2. Fix broken postcodes"
   ],
   "metadata": {
    "collapsed": false
   }
  },
  {
   "cell_type": "code",
   "execution_count": 5,
   "outputs": [
    {
     "data": {
      "text/plain": "       postcode_fixed                  city_0\n4888            14552                Gemeinde\n4891            15827            Blankenfelde\n17773           15713                  Königs\n65685           72525              Gutsbezirk\n66789           01825                    Bad \n69421           01825                    Bad \n69426           01825                    Bad \n69434           01825                    Bad \n69441           01825                    Bad \n69959           01825                    Bad \n70825           72525              Gutsbezirk\n87401           15713                  Königs\n88197           15713                  Königs\n88232           15713                  Königs\n110638          15713                  Königs\n110773          14621       Schönwalde-Glien/\n117855          15713                  Königs\n117901          14621       Schönwalde-Glien/\n119605          16321   Ahrensfelde-Blumberg,\n119646          15713                  Königs",
      "text/html": "<div>\n<style scoped>\n    .dataframe tbody tr th:only-of-type {\n        vertical-align: middle;\n    }\n\n    .dataframe tbody tr th {\n        vertical-align: top;\n    }\n\n    .dataframe thead th {\n        text-align: right;\n    }\n</style>\n<table border=\"1\" class=\"dataframe\">\n  <thead>\n    <tr style=\"text-align: right;\">\n      <th></th>\n      <th>postcode_fixed</th>\n      <th>city_0</th>\n    </tr>\n  </thead>\n  <tbody>\n    <tr>\n      <th>4888</th>\n      <td>14552</td>\n      <td>Gemeinde</td>\n    </tr>\n    <tr>\n      <th>4891</th>\n      <td>15827</td>\n      <td>Blankenfelde</td>\n    </tr>\n    <tr>\n      <th>17773</th>\n      <td>15713</td>\n      <td>Königs</td>\n    </tr>\n    <tr>\n      <th>65685</th>\n      <td>72525</td>\n      <td>Gutsbezirk</td>\n    </tr>\n    <tr>\n      <th>66789</th>\n      <td>01825</td>\n      <td>Bad</td>\n    </tr>\n    <tr>\n      <th>69421</th>\n      <td>01825</td>\n      <td>Bad</td>\n    </tr>\n    <tr>\n      <th>69426</th>\n      <td>01825</td>\n      <td>Bad</td>\n    </tr>\n    <tr>\n      <th>69434</th>\n      <td>01825</td>\n      <td>Bad</td>\n    </tr>\n    <tr>\n      <th>69441</th>\n      <td>01825</td>\n      <td>Bad</td>\n    </tr>\n    <tr>\n      <th>69959</th>\n      <td>01825</td>\n      <td>Bad</td>\n    </tr>\n    <tr>\n      <th>70825</th>\n      <td>72525</td>\n      <td>Gutsbezirk</td>\n    </tr>\n    <tr>\n      <th>87401</th>\n      <td>15713</td>\n      <td>Königs</td>\n    </tr>\n    <tr>\n      <th>88197</th>\n      <td>15713</td>\n      <td>Königs</td>\n    </tr>\n    <tr>\n      <th>88232</th>\n      <td>15713</td>\n      <td>Königs</td>\n    </tr>\n    <tr>\n      <th>110638</th>\n      <td>15713</td>\n      <td>Königs</td>\n    </tr>\n    <tr>\n      <th>110773</th>\n      <td>14621</td>\n      <td>Schönwalde-Glien/</td>\n    </tr>\n    <tr>\n      <th>117855</th>\n      <td>15713</td>\n      <td>Königs</td>\n    </tr>\n    <tr>\n      <th>117901</th>\n      <td>14621</td>\n      <td>Schönwalde-Glien/</td>\n    </tr>\n    <tr>\n      <th>119605</th>\n      <td>16321</td>\n      <td>Ahrensfelde-Blumberg,</td>\n    </tr>\n    <tr>\n      <th>119646</th>\n      <td>15713</td>\n      <td>Königs</td>\n    </tr>\n  </tbody>\n</table>\n</div>"
     },
     "execution_count": 5,
     "metadata": {},
     "output_type": "execute_result"
    }
   ],
   "source": [
    "df_postcode_split = df_broken_postcode['postcode'].str.extract('(?P<postcode_fixed>\\d+)(?P<city_0>\\D+)', expand=True)\n",
    "df_postcode_split"
   ],
   "metadata": {
    "collapsed": false,
    "pycharm": {
     "name": "#%%\n"
    }
   }
  },
  {
   "cell_type": "code",
   "execution_count": 6,
   "outputs": [
    {
     "data": {
      "text/plain": "            id                  street                    area           user  \\\n4888      5001       An den Bergen 121  Gewerbe/sonst. Nutzung            NaN   \n4891      5004       Trebbiner Damm 28  Gewerbe/sonst. Nutzung            NaN   \n17773    18182           Am Sandberg 5  Gewerbe/sonst. Nutzung            NaN   \n65685    66105             Egelstein 9    Dienstliegenschaften            NaN   \n66789    66833      Börnersdorf Nr. 1A    Dienstliegenschaften            NaN   \n69421    68569      Börnersdorf Nr. 1A    Dienstliegenschaften  Bundespolizei   \n69426    68572      Börnersdorf Nr. 1A    Dienstliegenschaften            NaN   \n69434    68577      Börnersdorf Nr. 1A    Dienstliegenschaften  Bundespolizei   \n69441    68582      Börnersdorf Nr. 1A    Dienstliegenschaften  Bundespolizei   \n69959    68924      Börnersdorf Nr. 1A    Dienstliegenschaften            NaN   \n70825    69494             Egelstein 9    Dienstliegenschaften            NaN   \n87401    80422  Wernsdorfer Straße 99b  Gewerbe/sonst. Nutzung              0   \n88197    80947  Wernsdorfer Straße 99b  Gewerbe/sonst. Nutzung            NaN   \n88232    80969  Wernsdorfer Straße 99b  Gewerbe/sonst. Nutzung              0   \n110638   95741            Seestraße 61  Gewerbe/sonst. Nutzung            NaN   \n110773   95830           Birkenallee 9  Gewerbe/sonst. Nutzung            NaN   \n117855  100500     Buchfinkenweg 12a,b  Gewerbe/sonst. Nutzung              0   \n117901  100530           Birkenallee 7  Gewerbe/sonst. Nutzung            NaN   \n119605  101654       Krimhildstraße 26  Gewerbe/sonst. Nutzung            NaN   \n119646  101680   Wernsdorfer Str. 92 a  Gewerbe/sonst. Nutzung            NaN   \n\n           size postcode                                       city  \n4888    1118.00    14552      Gemeinde Michendorf/ OT Wilhelmshorst  \n4891    1385.00    15827      Blankenfelde - Mahlow OT Blankenfelde  \n17773    440.00    15713           Königs Wusterhausen OT Wernsdorf  \n65685     98.30    72525        Gutsbezirk Münsingen, gemfr. Gebiet  \n66789      0.00    01825   Bad Gottleuba-Berggießhübel OT Börnersdo  \n69421     18.00    01825   Bad Gottleuba-Berggießhübel OT Börnersdo  \n69426    200.00    01825   Bad Gottleuba-Berggießhübel OT Börnersdo  \n69434    620.00    01825   Bad Gottleuba-Berggießhübel OT Börnersdo  \n69441    836.73    01825   Bad Gottleuba-Berggießhübel OT Börnersdo  \n69959     27.50    01825   Bad Gottleuba-Berggießhübel OT Börnersdo  \n70825    163.21    72525        Gutsbezirk Münsingen, gemfr. Gebiet  \n87401   2096.00    15713         Königs Wusterhausen OT Niederlehme  \n88197     15.00    15713         Königs Wusterhausen OT Niederlehme  \n88232     50.00    15713         Königs Wusterhausen OT Niederlehme  \n110638    45.00    15713         Königs Wusterhausen OT Niederlehme  \n110773   917.00    14621   Schönwalde-Glien/ OT Schönwalde Siedlung  \n117855   523.00    15713           Königs Wusterhausen OT Wernsdorf  \n117901   919.00    14621   Schönwalde-Glien/ OT Schönwalde Siedlung  \n119605   702.00    16321        Ahrensfelde-Blumberg, OT Lindenberg  \n119646  1582.00    15713          Königs Wusterhausen / Niederlehme  ",
      "text/html": "<div>\n<style scoped>\n    .dataframe tbody tr th:only-of-type {\n        vertical-align: middle;\n    }\n\n    .dataframe tbody tr th {\n        vertical-align: top;\n    }\n\n    .dataframe thead th {\n        text-align: right;\n    }\n</style>\n<table border=\"1\" class=\"dataframe\">\n  <thead>\n    <tr style=\"text-align: right;\">\n      <th></th>\n      <th>id</th>\n      <th>street</th>\n      <th>area</th>\n      <th>user</th>\n      <th>size</th>\n      <th>postcode</th>\n      <th>city</th>\n    </tr>\n  </thead>\n  <tbody>\n    <tr>\n      <th>4888</th>\n      <td>5001</td>\n      <td>An den Bergen 121</td>\n      <td>Gewerbe/sonst. Nutzung</td>\n      <td>NaN</td>\n      <td>1118.00</td>\n      <td>14552</td>\n      <td>Gemeinde Michendorf/ OT Wilhelmshorst</td>\n    </tr>\n    <tr>\n      <th>4891</th>\n      <td>5004</td>\n      <td>Trebbiner Damm 28</td>\n      <td>Gewerbe/sonst. Nutzung</td>\n      <td>NaN</td>\n      <td>1385.00</td>\n      <td>15827</td>\n      <td>Blankenfelde - Mahlow OT Blankenfelde</td>\n    </tr>\n    <tr>\n      <th>17773</th>\n      <td>18182</td>\n      <td>Am Sandberg 5</td>\n      <td>Gewerbe/sonst. Nutzung</td>\n      <td>NaN</td>\n      <td>440.00</td>\n      <td>15713</td>\n      <td>Königs Wusterhausen OT Wernsdorf</td>\n    </tr>\n    <tr>\n      <th>65685</th>\n      <td>66105</td>\n      <td>Egelstein 9</td>\n      <td>Dienstliegenschaften</td>\n      <td>NaN</td>\n      <td>98.30</td>\n      <td>72525</td>\n      <td>Gutsbezirk Münsingen, gemfr. Gebiet</td>\n    </tr>\n    <tr>\n      <th>66789</th>\n      <td>66833</td>\n      <td>Börnersdorf Nr. 1A</td>\n      <td>Dienstliegenschaften</td>\n      <td>NaN</td>\n      <td>0.00</td>\n      <td>01825</td>\n      <td>Bad Gottleuba-Berggießhübel OT Börnersdo</td>\n    </tr>\n    <tr>\n      <th>69421</th>\n      <td>68569</td>\n      <td>Börnersdorf Nr. 1A</td>\n      <td>Dienstliegenschaften</td>\n      <td>Bundespolizei</td>\n      <td>18.00</td>\n      <td>01825</td>\n      <td>Bad Gottleuba-Berggießhübel OT Börnersdo</td>\n    </tr>\n    <tr>\n      <th>69426</th>\n      <td>68572</td>\n      <td>Börnersdorf Nr. 1A</td>\n      <td>Dienstliegenschaften</td>\n      <td>NaN</td>\n      <td>200.00</td>\n      <td>01825</td>\n      <td>Bad Gottleuba-Berggießhübel OT Börnersdo</td>\n    </tr>\n    <tr>\n      <th>69434</th>\n      <td>68577</td>\n      <td>Börnersdorf Nr. 1A</td>\n      <td>Dienstliegenschaften</td>\n      <td>Bundespolizei</td>\n      <td>620.00</td>\n      <td>01825</td>\n      <td>Bad Gottleuba-Berggießhübel OT Börnersdo</td>\n    </tr>\n    <tr>\n      <th>69441</th>\n      <td>68582</td>\n      <td>Börnersdorf Nr. 1A</td>\n      <td>Dienstliegenschaften</td>\n      <td>Bundespolizei</td>\n      <td>836.73</td>\n      <td>01825</td>\n      <td>Bad Gottleuba-Berggießhübel OT Börnersdo</td>\n    </tr>\n    <tr>\n      <th>69959</th>\n      <td>68924</td>\n      <td>Börnersdorf Nr. 1A</td>\n      <td>Dienstliegenschaften</td>\n      <td>NaN</td>\n      <td>27.50</td>\n      <td>01825</td>\n      <td>Bad Gottleuba-Berggießhübel OT Börnersdo</td>\n    </tr>\n    <tr>\n      <th>70825</th>\n      <td>69494</td>\n      <td>Egelstein 9</td>\n      <td>Dienstliegenschaften</td>\n      <td>NaN</td>\n      <td>163.21</td>\n      <td>72525</td>\n      <td>Gutsbezirk Münsingen, gemfr. Gebiet</td>\n    </tr>\n    <tr>\n      <th>87401</th>\n      <td>80422</td>\n      <td>Wernsdorfer Straße 99b</td>\n      <td>Gewerbe/sonst. Nutzung</td>\n      <td>0</td>\n      <td>2096.00</td>\n      <td>15713</td>\n      <td>Königs Wusterhausen OT Niederlehme</td>\n    </tr>\n    <tr>\n      <th>88197</th>\n      <td>80947</td>\n      <td>Wernsdorfer Straße 99b</td>\n      <td>Gewerbe/sonst. Nutzung</td>\n      <td>NaN</td>\n      <td>15.00</td>\n      <td>15713</td>\n      <td>Königs Wusterhausen OT Niederlehme</td>\n    </tr>\n    <tr>\n      <th>88232</th>\n      <td>80969</td>\n      <td>Wernsdorfer Straße 99b</td>\n      <td>Gewerbe/sonst. Nutzung</td>\n      <td>0</td>\n      <td>50.00</td>\n      <td>15713</td>\n      <td>Königs Wusterhausen OT Niederlehme</td>\n    </tr>\n    <tr>\n      <th>110638</th>\n      <td>95741</td>\n      <td>Seestraße 61</td>\n      <td>Gewerbe/sonst. Nutzung</td>\n      <td>NaN</td>\n      <td>45.00</td>\n      <td>15713</td>\n      <td>Königs Wusterhausen OT Niederlehme</td>\n    </tr>\n    <tr>\n      <th>110773</th>\n      <td>95830</td>\n      <td>Birkenallee 9</td>\n      <td>Gewerbe/sonst. Nutzung</td>\n      <td>NaN</td>\n      <td>917.00</td>\n      <td>14621</td>\n      <td>Schönwalde-Glien/ OT Schönwalde Siedlung</td>\n    </tr>\n    <tr>\n      <th>117855</th>\n      <td>100500</td>\n      <td>Buchfinkenweg 12a,b</td>\n      <td>Gewerbe/sonst. Nutzung</td>\n      <td>0</td>\n      <td>523.00</td>\n      <td>15713</td>\n      <td>Königs Wusterhausen OT Wernsdorf</td>\n    </tr>\n    <tr>\n      <th>117901</th>\n      <td>100530</td>\n      <td>Birkenallee 7</td>\n      <td>Gewerbe/sonst. Nutzung</td>\n      <td>NaN</td>\n      <td>919.00</td>\n      <td>14621</td>\n      <td>Schönwalde-Glien/ OT Schönwalde Siedlung</td>\n    </tr>\n    <tr>\n      <th>119605</th>\n      <td>101654</td>\n      <td>Krimhildstraße 26</td>\n      <td>Gewerbe/sonst. Nutzung</td>\n      <td>NaN</td>\n      <td>702.00</td>\n      <td>16321</td>\n      <td>Ahrensfelde-Blumberg, OT Lindenberg</td>\n    </tr>\n    <tr>\n      <th>119646</th>\n      <td>101680</td>\n      <td>Wernsdorfer Str. 92 a</td>\n      <td>Gewerbe/sonst. Nutzung</td>\n      <td>NaN</td>\n      <td>1582.00</td>\n      <td>15713</td>\n      <td>Königs Wusterhausen / Niederlehme</td>\n    </tr>\n  </tbody>\n</table>\n</div>"
     },
     "execution_count": 6,
     "metadata": {},
     "output_type": "execute_result"
    }
   ],
   "source": [
    "df_tmp_postcode= df_broken_postcode.join(df_postcode_split).drop(columns=[\"postcode\"]).rename(columns={'postcode_fixed':'postcode'})\n",
    "df_tmp_postcode[\"city_fixed\"] = df_tmp_postcode[\"city_0\"] + df_tmp_postcode[\"city\"]\n",
    "df_tmp_postcode = df_tmp_postcode.drop(columns=[\"city\",\"city_0\"]).rename(columns={'city_fixed':\"city\"})\n",
    "df_tmp_postcode"
   ],
   "metadata": {
    "collapsed": false,
    "pycharm": {
     "name": "#%%\n"
    }
   }
  },
  {
   "cell_type": "code",
   "execution_count": 7,
   "outputs": [
    {
     "name": "stderr",
     "output_type": "stream",
     "text": [
      "/opt/homebrew/Caskroom/miniforge/base/envs/py38/lib/python3.8/site-packages/pandas/core/frame.py:7511: SettingWithCopyWarning: \n",
      "A value is trying to be set on a copy of a slice from a DataFrame.\n",
      "Try using .loc[row_indexer,col_indexer] = value instead\n",
      "\n",
      "See the caveats in the documentation: https://pandas.pydata.org/pandas-docs/stable/user_guide/indexing.html#returning-a-view-versus-a-copy\n",
      "  self[col] = expressions.where(mask, this, that)\n"
     ]
    }
   ],
   "source": [
    "df_broken_postcode.update(df_tmp_postcode)"
   ],
   "metadata": {
    "collapsed": false,
    "pycharm": {
     "name": "#%%\n"
    }
   }
  },
  {
   "cell_type": "code",
   "execution_count": 8,
   "outputs": [
    {
     "data": {
      "text/plain": "            id postcode                                       city  \\\n4888      5001    14552      Gemeinde Michendorf/ OT Wilhelmshorst   \n4891      5004    15827      Blankenfelde - Mahlow OT Blankenfelde   \n17773    18182    15713           Königs Wusterhausen OT Wernsdorf   \n65685    66105    72525        Gutsbezirk Münsingen, gemfr. Gebiet   \n66789    66833    01825   Bad Gottleuba-Berggießhübel OT Börnersdo   \n69421    68569    01825   Bad Gottleuba-Berggießhübel OT Börnersdo   \n69426    68572    01825   Bad Gottleuba-Berggießhübel OT Börnersdo   \n69434    68577    01825   Bad Gottleuba-Berggießhübel OT Börnersdo   \n69441    68582    01825   Bad Gottleuba-Berggießhübel OT Börnersdo   \n69959    68924    01825   Bad Gottleuba-Berggießhübel OT Börnersdo   \n70825    69494    72525        Gutsbezirk Münsingen, gemfr. Gebiet   \n87401    80422    15713         Königs Wusterhausen OT Niederlehme   \n88197    80947    15713         Königs Wusterhausen OT Niederlehme   \n88232    80969    15713         Königs Wusterhausen OT Niederlehme   \n110638   95741    15713         Königs Wusterhausen OT Niederlehme   \n110773   95830    14621   Schönwalde-Glien/ OT Schönwalde Siedlung   \n117855  100500    15713           Königs Wusterhausen OT Wernsdorf   \n117901  100530    14621   Schönwalde-Glien/ OT Schönwalde Siedlung   \n119605  101654    16321        Ahrensfelde-Blumberg, OT Lindenberg   \n119646  101680    15713          Königs Wusterhausen / Niederlehme   \n\n                        street                    area           user     size  \n4888         An den Bergen 121  Gewerbe/sonst. Nutzung            NaN  1118.00  \n4891         Trebbiner Damm 28  Gewerbe/sonst. Nutzung            NaN  1385.00  \n17773            Am Sandberg 5  Gewerbe/sonst. Nutzung            NaN   440.00  \n65685              Egelstein 9    Dienstliegenschaften            NaN    98.30  \n66789       Börnersdorf Nr. 1A    Dienstliegenschaften            NaN     0.00  \n69421       Börnersdorf Nr. 1A    Dienstliegenschaften  Bundespolizei    18.00  \n69426       Börnersdorf Nr. 1A    Dienstliegenschaften            NaN   200.00  \n69434       Börnersdorf Nr. 1A    Dienstliegenschaften  Bundespolizei   620.00  \n69441       Börnersdorf Nr. 1A    Dienstliegenschaften  Bundespolizei   836.73  \n69959       Börnersdorf Nr. 1A    Dienstliegenschaften            NaN    27.50  \n70825              Egelstein 9    Dienstliegenschaften            NaN   163.21  \n87401   Wernsdorfer Straße 99b  Gewerbe/sonst. Nutzung              0  2096.00  \n88197   Wernsdorfer Straße 99b  Gewerbe/sonst. Nutzung            NaN    15.00  \n88232   Wernsdorfer Straße 99b  Gewerbe/sonst. Nutzung              0    50.00  \n110638            Seestraße 61  Gewerbe/sonst. Nutzung            NaN    45.00  \n110773           Birkenallee 9  Gewerbe/sonst. Nutzung            NaN   917.00  \n117855     Buchfinkenweg 12a,b  Gewerbe/sonst. Nutzung              0   523.00  \n117901           Birkenallee 7  Gewerbe/sonst. Nutzung            NaN   919.00  \n119605       Krimhildstraße 26  Gewerbe/sonst. Nutzung            NaN   702.00  \n119646   Wernsdorfer Str. 92 a  Gewerbe/sonst. Nutzung            NaN  1582.00  ",
      "text/html": "<div>\n<style scoped>\n    .dataframe tbody tr th:only-of-type {\n        vertical-align: middle;\n    }\n\n    .dataframe tbody tr th {\n        vertical-align: top;\n    }\n\n    .dataframe thead th {\n        text-align: right;\n    }\n</style>\n<table border=\"1\" class=\"dataframe\">\n  <thead>\n    <tr style=\"text-align: right;\">\n      <th></th>\n      <th>id</th>\n      <th>postcode</th>\n      <th>city</th>\n      <th>street</th>\n      <th>area</th>\n      <th>user</th>\n      <th>size</th>\n    </tr>\n  </thead>\n  <tbody>\n    <tr>\n      <th>4888</th>\n      <td>5001</td>\n      <td>14552</td>\n      <td>Gemeinde Michendorf/ OT Wilhelmshorst</td>\n      <td>An den Bergen 121</td>\n      <td>Gewerbe/sonst. Nutzung</td>\n      <td>NaN</td>\n      <td>1118.00</td>\n    </tr>\n    <tr>\n      <th>4891</th>\n      <td>5004</td>\n      <td>15827</td>\n      <td>Blankenfelde - Mahlow OT Blankenfelde</td>\n      <td>Trebbiner Damm 28</td>\n      <td>Gewerbe/sonst. Nutzung</td>\n      <td>NaN</td>\n      <td>1385.00</td>\n    </tr>\n    <tr>\n      <th>17773</th>\n      <td>18182</td>\n      <td>15713</td>\n      <td>Königs Wusterhausen OT Wernsdorf</td>\n      <td>Am Sandberg 5</td>\n      <td>Gewerbe/sonst. Nutzung</td>\n      <td>NaN</td>\n      <td>440.00</td>\n    </tr>\n    <tr>\n      <th>65685</th>\n      <td>66105</td>\n      <td>72525</td>\n      <td>Gutsbezirk Münsingen, gemfr. Gebiet</td>\n      <td>Egelstein 9</td>\n      <td>Dienstliegenschaften</td>\n      <td>NaN</td>\n      <td>98.30</td>\n    </tr>\n    <tr>\n      <th>66789</th>\n      <td>66833</td>\n      <td>01825</td>\n      <td>Bad Gottleuba-Berggießhübel OT Börnersdo</td>\n      <td>Börnersdorf Nr. 1A</td>\n      <td>Dienstliegenschaften</td>\n      <td>NaN</td>\n      <td>0.00</td>\n    </tr>\n    <tr>\n      <th>69421</th>\n      <td>68569</td>\n      <td>01825</td>\n      <td>Bad Gottleuba-Berggießhübel OT Börnersdo</td>\n      <td>Börnersdorf Nr. 1A</td>\n      <td>Dienstliegenschaften</td>\n      <td>Bundespolizei</td>\n      <td>18.00</td>\n    </tr>\n    <tr>\n      <th>69426</th>\n      <td>68572</td>\n      <td>01825</td>\n      <td>Bad Gottleuba-Berggießhübel OT Börnersdo</td>\n      <td>Börnersdorf Nr. 1A</td>\n      <td>Dienstliegenschaften</td>\n      <td>NaN</td>\n      <td>200.00</td>\n    </tr>\n    <tr>\n      <th>69434</th>\n      <td>68577</td>\n      <td>01825</td>\n      <td>Bad Gottleuba-Berggießhübel OT Börnersdo</td>\n      <td>Börnersdorf Nr. 1A</td>\n      <td>Dienstliegenschaften</td>\n      <td>Bundespolizei</td>\n      <td>620.00</td>\n    </tr>\n    <tr>\n      <th>69441</th>\n      <td>68582</td>\n      <td>01825</td>\n      <td>Bad Gottleuba-Berggießhübel OT Börnersdo</td>\n      <td>Börnersdorf Nr. 1A</td>\n      <td>Dienstliegenschaften</td>\n      <td>Bundespolizei</td>\n      <td>836.73</td>\n    </tr>\n    <tr>\n      <th>69959</th>\n      <td>68924</td>\n      <td>01825</td>\n      <td>Bad Gottleuba-Berggießhübel OT Börnersdo</td>\n      <td>Börnersdorf Nr. 1A</td>\n      <td>Dienstliegenschaften</td>\n      <td>NaN</td>\n      <td>27.50</td>\n    </tr>\n    <tr>\n      <th>70825</th>\n      <td>69494</td>\n      <td>72525</td>\n      <td>Gutsbezirk Münsingen, gemfr. Gebiet</td>\n      <td>Egelstein 9</td>\n      <td>Dienstliegenschaften</td>\n      <td>NaN</td>\n      <td>163.21</td>\n    </tr>\n    <tr>\n      <th>87401</th>\n      <td>80422</td>\n      <td>15713</td>\n      <td>Königs Wusterhausen OT Niederlehme</td>\n      <td>Wernsdorfer Straße 99b</td>\n      <td>Gewerbe/sonst. Nutzung</td>\n      <td>0</td>\n      <td>2096.00</td>\n    </tr>\n    <tr>\n      <th>88197</th>\n      <td>80947</td>\n      <td>15713</td>\n      <td>Königs Wusterhausen OT Niederlehme</td>\n      <td>Wernsdorfer Straße 99b</td>\n      <td>Gewerbe/sonst. Nutzung</td>\n      <td>NaN</td>\n      <td>15.00</td>\n    </tr>\n    <tr>\n      <th>88232</th>\n      <td>80969</td>\n      <td>15713</td>\n      <td>Königs Wusterhausen OT Niederlehme</td>\n      <td>Wernsdorfer Straße 99b</td>\n      <td>Gewerbe/sonst. Nutzung</td>\n      <td>0</td>\n      <td>50.00</td>\n    </tr>\n    <tr>\n      <th>110638</th>\n      <td>95741</td>\n      <td>15713</td>\n      <td>Königs Wusterhausen OT Niederlehme</td>\n      <td>Seestraße 61</td>\n      <td>Gewerbe/sonst. Nutzung</td>\n      <td>NaN</td>\n      <td>45.00</td>\n    </tr>\n    <tr>\n      <th>110773</th>\n      <td>95830</td>\n      <td>14621</td>\n      <td>Schönwalde-Glien/ OT Schönwalde Siedlung</td>\n      <td>Birkenallee 9</td>\n      <td>Gewerbe/sonst. Nutzung</td>\n      <td>NaN</td>\n      <td>917.00</td>\n    </tr>\n    <tr>\n      <th>117855</th>\n      <td>100500</td>\n      <td>15713</td>\n      <td>Königs Wusterhausen OT Wernsdorf</td>\n      <td>Buchfinkenweg 12a,b</td>\n      <td>Gewerbe/sonst. Nutzung</td>\n      <td>0</td>\n      <td>523.00</td>\n    </tr>\n    <tr>\n      <th>117901</th>\n      <td>100530</td>\n      <td>14621</td>\n      <td>Schönwalde-Glien/ OT Schönwalde Siedlung</td>\n      <td>Birkenallee 7</td>\n      <td>Gewerbe/sonst. Nutzung</td>\n      <td>NaN</td>\n      <td>919.00</td>\n    </tr>\n    <tr>\n      <th>119605</th>\n      <td>101654</td>\n      <td>16321</td>\n      <td>Ahrensfelde-Blumberg, OT Lindenberg</td>\n      <td>Krimhildstraße 26</td>\n      <td>Gewerbe/sonst. Nutzung</td>\n      <td>NaN</td>\n      <td>702.00</td>\n    </tr>\n    <tr>\n      <th>119646</th>\n      <td>101680</td>\n      <td>15713</td>\n      <td>Königs Wusterhausen / Niederlehme</td>\n      <td>Wernsdorfer Str. 92 a</td>\n      <td>Gewerbe/sonst. Nutzung</td>\n      <td>NaN</td>\n      <td>1582.00</td>\n    </tr>\n  </tbody>\n</table>\n</div>"
     },
     "execution_count": 8,
     "metadata": {},
     "output_type": "execute_result"
    }
   ],
   "source": [
    "df_broken_postcode\n",
    "# Looks good! ... let's update the original dataframe"
   ],
   "metadata": {
    "collapsed": false,
    "pycharm": {
     "name": "#%%\n"
    }
   }
  },
  {
   "cell_type": "code",
   "execution_count": 9,
   "outputs": [],
   "source": [
    "df.update(df_broken_postcode)"
   ],
   "metadata": {
    "collapsed": false,
    "pycharm": {
     "name": "#%%\n"
    }
   }
  },
  {
   "cell_type": "code",
   "execution_count": 10,
   "outputs": [],
   "source": [
    "# Let's make sure we really got all the postcodes\n",
    "assert df[df[\"postcode\"].fillna(-1).str.strip().str.len() > 5].size == 0"
   ],
   "metadata": {
    "collapsed": false,
    "pycharm": {
     "name": "#%%\n"
    }
   }
  },
  {
   "cell_type": "code",
   "execution_count": 11,
   "outputs": [],
   "source": [
    "df[\"postcode\"] = df[\"postcode\"].str.strip()\n",
    "df[\"postcode\"] = pd.to_numeric(df[\"postcode\"]).astype(pd.Int64Dtype()) # Don't ask :D"
   ],
   "metadata": {
    "collapsed": false,
    "pycharm": {
     "name": "#%%\n"
    }
   }
  },
  {
   "cell_type": "markdown",
   "source": [
    "### 3. Fix IDs (some don't exist)\n",
    "#### replace all NaN with '-1' so we can use \"int\" datatype"
   ],
   "metadata": {
    "collapsed": false
   }
  },
  {
   "cell_type": "code",
   "execution_count": 12,
   "outputs": [],
   "source": [
    "df[\"id\"] = df[\"id\"].fillna(-1).astype(int)"
   ],
   "metadata": {
    "collapsed": false,
    "pycharm": {
     "name": "#%%\n"
    }
   }
  },
  {
   "cell_type": "markdown",
   "source": [
    "### 4. Replace all str NaN with \"Unbekannt\" (Unknown)"
   ],
   "metadata": {
    "collapsed": false
   }
  },
  {
   "cell_type": "code",
   "execution_count": 13,
   "outputs": [
    {
     "data": {
      "text/plain": "            id  postcode                                               city  \\\n0            1     24799                                           Owschlag   \n1            2     59494                                              Soest   \n2            3     81549  München Cincinnati/Wikinger/Leif/Penn/Lincoln/...   \n3            4     81549                                            München   \n4            5     81549                                            München   \n...        ...       ...                                                ...   \n234740  180184     98527                                        Suhl, Stadt   \n234741  180185     16278                                  Angermünde, Stadt   \n234742  180186     15234                                   Frankfurt (Oder)   \n234743  180187     45219                                              Essen   \n234744  180188      8525                                             Plauen   \n\n                            street                    area       user  \\\n0                        Unbekannt             Bundesforst  Unbekannt   \n1                        Unbekannt             Bundesforst  Unbekannt   \n2                        Unbekannt                  Wohnen  Unbekannt   \n3         Minnewitstr. 12 (350 A8)                  Wohnen  Unbekannt   \n4       Cincinnatistr. 59 Wgh. 3-6                  Wohnen  Unbekannt   \n...                            ...                     ...        ...   \n234740      Friedrich-König-Straße  Gewerbe/sonst. Nutzung  Unbekannt   \n234741   Rudolf-Breitscheid-Straße  Gewerbe/sonst. Nutzung  Unbekannt   \n234742               Traubenweg 18  Gewerbe/sonst. Nutzung  Unbekannt   \n234743              Ringstraße 199  Gewerbe/sonst. Nutzung  Unbekannt   \n234744    Alte Jößnitzer Straße 30  Gewerbe/sonst. Nutzung  Unbekannt   \n\n            size  \n0        1922.00  \n1       45000.00  \n2           0.00  \n3          72.00  \n4          77.45  \n...          ...  \n234740    986.00  \n234741   2212.00  \n234742   2716.00  \n234743   3892.00  \n234744  16097.99  \n\n[234745 rows x 7 columns]",
      "text/html": "<div>\n<style scoped>\n    .dataframe tbody tr th:only-of-type {\n        vertical-align: middle;\n    }\n\n    .dataframe tbody tr th {\n        vertical-align: top;\n    }\n\n    .dataframe thead th {\n        text-align: right;\n    }\n</style>\n<table border=\"1\" class=\"dataframe\">\n  <thead>\n    <tr style=\"text-align: right;\">\n      <th></th>\n      <th>id</th>\n      <th>postcode</th>\n      <th>city</th>\n      <th>street</th>\n      <th>area</th>\n      <th>user</th>\n      <th>size</th>\n    </tr>\n  </thead>\n  <tbody>\n    <tr>\n      <th>0</th>\n      <td>1</td>\n      <td>24799</td>\n      <td>Owschlag</td>\n      <td>Unbekannt</td>\n      <td>Bundesforst</td>\n      <td>Unbekannt</td>\n      <td>1922.00</td>\n    </tr>\n    <tr>\n      <th>1</th>\n      <td>2</td>\n      <td>59494</td>\n      <td>Soest</td>\n      <td>Unbekannt</td>\n      <td>Bundesforst</td>\n      <td>Unbekannt</td>\n      <td>45000.00</td>\n    </tr>\n    <tr>\n      <th>2</th>\n      <td>3</td>\n      <td>81549</td>\n      <td>München Cincinnati/Wikinger/Leif/Penn/Lincoln/...</td>\n      <td>Unbekannt</td>\n      <td>Wohnen</td>\n      <td>Unbekannt</td>\n      <td>0.00</td>\n    </tr>\n    <tr>\n      <th>3</th>\n      <td>4</td>\n      <td>81549</td>\n      <td>München</td>\n      <td>Minnewitstr. 12 (350 A8)</td>\n      <td>Wohnen</td>\n      <td>Unbekannt</td>\n      <td>72.00</td>\n    </tr>\n    <tr>\n      <th>4</th>\n      <td>5</td>\n      <td>81549</td>\n      <td>München</td>\n      <td>Cincinnatistr. 59 Wgh. 3-6</td>\n      <td>Wohnen</td>\n      <td>Unbekannt</td>\n      <td>77.45</td>\n    </tr>\n    <tr>\n      <th>...</th>\n      <td>...</td>\n      <td>...</td>\n      <td>...</td>\n      <td>...</td>\n      <td>...</td>\n      <td>...</td>\n      <td>...</td>\n    </tr>\n    <tr>\n      <th>234740</th>\n      <td>180184</td>\n      <td>98527</td>\n      <td>Suhl, Stadt</td>\n      <td>Friedrich-König-Straße</td>\n      <td>Gewerbe/sonst. Nutzung</td>\n      <td>Unbekannt</td>\n      <td>986.00</td>\n    </tr>\n    <tr>\n      <th>234741</th>\n      <td>180185</td>\n      <td>16278</td>\n      <td>Angermünde, Stadt</td>\n      <td>Rudolf-Breitscheid-Straße</td>\n      <td>Gewerbe/sonst. Nutzung</td>\n      <td>Unbekannt</td>\n      <td>2212.00</td>\n    </tr>\n    <tr>\n      <th>234742</th>\n      <td>180186</td>\n      <td>15234</td>\n      <td>Frankfurt (Oder)</td>\n      <td>Traubenweg 18</td>\n      <td>Gewerbe/sonst. Nutzung</td>\n      <td>Unbekannt</td>\n      <td>2716.00</td>\n    </tr>\n    <tr>\n      <th>234743</th>\n      <td>180187</td>\n      <td>45219</td>\n      <td>Essen</td>\n      <td>Ringstraße 199</td>\n      <td>Gewerbe/sonst. Nutzung</td>\n      <td>Unbekannt</td>\n      <td>3892.00</td>\n    </tr>\n    <tr>\n      <th>234744</th>\n      <td>180188</td>\n      <td>8525</td>\n      <td>Plauen</td>\n      <td>Alte Jößnitzer Straße 30</td>\n      <td>Gewerbe/sonst. Nutzung</td>\n      <td>Unbekannt</td>\n      <td>16097.99</td>\n    </tr>\n  </tbody>\n</table>\n<p>234745 rows × 7 columns</p>\n</div>"
     },
     "execution_count": 13,
     "metadata": {},
     "output_type": "execute_result"
    }
   ],
   "source": [
    "str_columns = df.select_dtypes(include=[object]).columns.tolist()\n",
    "df[str_columns] = df[str_columns].fillna(value=\"Unbekannt\") #inplace doesn't work here!?\n",
    "df"
   ],
   "metadata": {
    "collapsed": false,
    "pycharm": {
     "name": "#%%\n"
    }
   }
  },
  {
   "cell_type": "markdown",
   "source": [
    "#### 5. Replace 0-User with \"Unbekannt\""
   ],
   "metadata": {
    "collapsed": false
   }
  },
  {
   "cell_type": "code",
   "execution_count": 14,
   "outputs": [],
   "source": [
    "df[\"user\"] = df[\"user\"].replace(\"0\",\"Unbekannt\") #0 = Unkown"
   ],
   "metadata": {
    "collapsed": false,
    "pycharm": {
     "name": "#%%\n"
    }
   }
  },
  {
   "cell_type": "markdown",
   "source": [
    "#### 6. Save Results"
   ],
   "metadata": {
    "collapsed": false
   }
  },
  {
   "cell_type": "code",
   "execution_count": 15,
   "outputs": [],
   "source": [
    "df.to_csv(\"Fixed_Anlage_wo_pwd.csv\",index=False)"
   ],
   "metadata": {
    "collapsed": false,
    "pycharm": {
     "name": "#%%\n"
    }
   }
  }
 ],
 "metadata": {
  "kernelspec": {
   "display_name": "Python 3",
   "language": "python",
   "name": "python3"
  },
  "language_info": {
   "codemirror_mode": {
    "name": "ipython",
    "version": 2
   },
   "file_extension": ".py",
   "mimetype": "text/x-python",
   "name": "python",
   "nbconvert_exporter": "python",
   "pygments_lexer": "ipython2",
   "version": "2.7.6"
  }
 },
 "nbformat": 4,
 "nbformat_minor": 0
}