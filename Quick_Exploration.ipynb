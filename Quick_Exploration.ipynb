{
 "cells": [
  {
   "cell_type": "code",
   "execution_count": 1,
   "metadata": {
    "collapsed": true
   },
   "outputs": [],
   "source": [
    "import pandas as pd"
   ]
  },
  {
   "cell_type": "code",
   "execution_count": 2,
   "outputs": [],
   "source": [
    "data_types ={\n",
    "    \"id\" : int,\n",
    "    \"postcode\" : pd.Int64Dtype()\t,\n",
    "    \"city\": str,\n",
    "    \"street\" : str,\n",
    "    \"area\" : \"category\",\n",
    "    \"user\" : \"category\",\n",
    "    \"size\": float\n",
    "}"
   ],
   "metadata": {
    "collapsed": false,
    "pycharm": {
     "name": "#%%\n"
    }
   }
  },
  {
   "cell_type": "code",
   "execution_count": 3,
   "outputs": [],
   "source": [
    "df = pd.read_csv(\"Fixed_Anlage_wo_pwd.csv\",dtype=data_types)"
   ],
   "metadata": {
    "collapsed": false,
    "pycharm": {
     "name": "#%%\n"
    }
   }
  },
  {
   "cell_type": "code",
   "execution_count": 4,
   "outputs": [
    {
     "data": {
      "text/plain": "            id  postcode                       city  \\\n29350    30025     80637  München, Landeshauptstadt   \n135888  112387     59425                       Unna   \n201335      -1      <NA>                  Unbekannt   \n106899   93278     54292                      Trier   \n223542  170218     97762                 Hammelburg   \n199098  154103     56828                     Alflen   \n159823      -1      <NA>                  Unbekannt   \n51347    52528     79540             Lörrach, Stadt   \n29944    30633     89075     Ulm, Universitätsstadt   \n102283      -1      <NA>                  Unbekannt   \n\n                                           street         area  \\\n29350               Hedwig - Dransfeld - Allee 35       Wohnen   \n135888  Kamener Str. 91 - 93 Dienstliegenschaften   Bundeswehr   \n201335                       Dienstliegenschaften   Bundeswehr   \n106899                            Thebaeerstr. 55       Wohnen   \n223542                              Rommelstr. 31    Unbekannt   \n199098                  N.N. Dienstliegenschaften   Bundeswehr   \n159823                       Dienstliegenschaften   Bundeswehr   \n51347                              Maienbühlweg 9       Wohnen   \n29944                               Werastraße 12       Wohnen   \n102283                                  Unbekannt    Unbekannt   \n\n                       user    size  \n29350             Unbekannt   32.70  \n135888            Unbekannt    0.00  \n201335  BMVg.-Unterbringung     NaN  \n106899            Unbekannt    9.92  \n223542            Unbekannt  609.10  \n199098  BMVg.-Unterbringung   30.00  \n159823            Unbekannt     NaN  \n51347             Unbekannt  103.90  \n29944             Unbekannt   44.20  \n102283            Unbekannt     NaN  ",
      "text/html": "<div>\n<style scoped>\n    .dataframe tbody tr th:only-of-type {\n        vertical-align: middle;\n    }\n\n    .dataframe tbody tr th {\n        vertical-align: top;\n    }\n\n    .dataframe thead th {\n        text-align: right;\n    }\n</style>\n<table border=\"1\" class=\"dataframe\">\n  <thead>\n    <tr style=\"text-align: right;\">\n      <th></th>\n      <th>id</th>\n      <th>postcode</th>\n      <th>city</th>\n      <th>street</th>\n      <th>area</th>\n      <th>user</th>\n      <th>size</th>\n    </tr>\n  </thead>\n  <tbody>\n    <tr>\n      <th>29350</th>\n      <td>30025</td>\n      <td>80637</td>\n      <td>München, Landeshauptstadt</td>\n      <td>Hedwig - Dransfeld - Allee 35</td>\n      <td>Wohnen</td>\n      <td>Unbekannt</td>\n      <td>32.70</td>\n    </tr>\n    <tr>\n      <th>135888</th>\n      <td>112387</td>\n      <td>59425</td>\n      <td>Unna</td>\n      <td>Kamener Str. 91 - 93 Dienstliegenschaften</td>\n      <td>Bundeswehr</td>\n      <td>Unbekannt</td>\n      <td>0.00</td>\n    </tr>\n    <tr>\n      <th>201335</th>\n      <td>-1</td>\n      <td>&lt;NA&gt;</td>\n      <td>Unbekannt</td>\n      <td>Dienstliegenschaften</td>\n      <td>Bundeswehr</td>\n      <td>BMVg.-Unterbringung</td>\n      <td>NaN</td>\n    </tr>\n    <tr>\n      <th>106899</th>\n      <td>93278</td>\n      <td>54292</td>\n      <td>Trier</td>\n      <td>Thebaeerstr. 55</td>\n      <td>Wohnen</td>\n      <td>Unbekannt</td>\n      <td>9.92</td>\n    </tr>\n    <tr>\n      <th>223542</th>\n      <td>170218</td>\n      <td>97762</td>\n      <td>Hammelburg</td>\n      <td>Rommelstr. 31</td>\n      <td>Unbekannt</td>\n      <td>Unbekannt</td>\n      <td>609.10</td>\n    </tr>\n    <tr>\n      <th>199098</th>\n      <td>154103</td>\n      <td>56828</td>\n      <td>Alflen</td>\n      <td>N.N. Dienstliegenschaften</td>\n      <td>Bundeswehr</td>\n      <td>BMVg.-Unterbringung</td>\n      <td>30.00</td>\n    </tr>\n    <tr>\n      <th>159823</th>\n      <td>-1</td>\n      <td>&lt;NA&gt;</td>\n      <td>Unbekannt</td>\n      <td>Dienstliegenschaften</td>\n      <td>Bundeswehr</td>\n      <td>Unbekannt</td>\n      <td>NaN</td>\n    </tr>\n    <tr>\n      <th>51347</th>\n      <td>52528</td>\n      <td>79540</td>\n      <td>Lörrach, Stadt</td>\n      <td>Maienbühlweg 9</td>\n      <td>Wohnen</td>\n      <td>Unbekannt</td>\n      <td>103.90</td>\n    </tr>\n    <tr>\n      <th>29944</th>\n      <td>30633</td>\n      <td>89075</td>\n      <td>Ulm, Universitätsstadt</td>\n      <td>Werastraße 12</td>\n      <td>Wohnen</td>\n      <td>Unbekannt</td>\n      <td>44.20</td>\n    </tr>\n    <tr>\n      <th>102283</th>\n      <td>-1</td>\n      <td>&lt;NA&gt;</td>\n      <td>Unbekannt</td>\n      <td>Unbekannt</td>\n      <td>Unbekannt</td>\n      <td>Unbekannt</td>\n      <td>NaN</td>\n    </tr>\n  </tbody>\n</table>\n</div>"
     },
     "execution_count": 4,
     "metadata": {},
     "output_type": "execute_result"
    }
   ],
   "source": [
    "df.sample(10)"
   ],
   "metadata": {
    "collapsed": false,
    "pycharm": {
     "name": "#%%\n"
    }
   }
  },
  {
   "cell_type": "markdown",
   "source": [
    "# Which \"User\" owns the most stuff"
   ],
   "metadata": {
    "collapsed": false
   }
  },
  {
   "cell_type": "code",
   "execution_count": 5,
   "outputs": [
    {
     "data": {
      "text/plain": "                          id  postcode  city  street  area   size\nuser                                                             \nUnbekannt             155391      3444  4518   26901     7  27759\nBMVg.-Unterbringung    14702       584   518     952     3   9221\nBundesanstalt THW       1364       592   575     657     4    974\nGeneralzolldirektion    1275       378   334     667     4    844\nBundespolizei            898       198   179     263     2    729\n...                      ...       ...   ...     ...   ...    ...\nSonst. Bewilligungen       1         0     1       1     1      0\nEnergie u. Nachhalti       1         1     1       1     1      1\nBilat. Zusammenarb.        1         1     1       1     1      1\nBSG                        1         0     1       1     1      0\nGoethe-Institut            1         0     1       1     1      0\n\n[103 rows x 6 columns]",
      "text/html": "<div>\n<style scoped>\n    .dataframe tbody tr th:only-of-type {\n        vertical-align: middle;\n    }\n\n    .dataframe tbody tr th {\n        vertical-align: top;\n    }\n\n    .dataframe thead th {\n        text-align: right;\n    }\n</style>\n<table border=\"1\" class=\"dataframe\">\n  <thead>\n    <tr style=\"text-align: right;\">\n      <th></th>\n      <th>id</th>\n      <th>postcode</th>\n      <th>city</th>\n      <th>street</th>\n      <th>area</th>\n      <th>size</th>\n    </tr>\n    <tr>\n      <th>user</th>\n      <th></th>\n      <th></th>\n      <th></th>\n      <th></th>\n      <th></th>\n      <th></th>\n    </tr>\n  </thead>\n  <tbody>\n    <tr>\n      <th>Unbekannt</th>\n      <td>155391</td>\n      <td>3444</td>\n      <td>4518</td>\n      <td>26901</td>\n      <td>7</td>\n      <td>27759</td>\n    </tr>\n    <tr>\n      <th>BMVg.-Unterbringung</th>\n      <td>14702</td>\n      <td>584</td>\n      <td>518</td>\n      <td>952</td>\n      <td>3</td>\n      <td>9221</td>\n    </tr>\n    <tr>\n      <th>Bundesanstalt THW</th>\n      <td>1364</td>\n      <td>592</td>\n      <td>575</td>\n      <td>657</td>\n      <td>4</td>\n      <td>974</td>\n    </tr>\n    <tr>\n      <th>Generalzolldirektion</th>\n      <td>1275</td>\n      <td>378</td>\n      <td>334</td>\n      <td>667</td>\n      <td>4</td>\n      <td>844</td>\n    </tr>\n    <tr>\n      <th>Bundespolizei</th>\n      <td>898</td>\n      <td>198</td>\n      <td>179</td>\n      <td>263</td>\n      <td>2</td>\n      <td>729</td>\n    </tr>\n    <tr>\n      <th>...</th>\n      <td>...</td>\n      <td>...</td>\n      <td>...</td>\n      <td>...</td>\n      <td>...</td>\n      <td>...</td>\n    </tr>\n    <tr>\n      <th>Sonst. Bewilligungen</th>\n      <td>1</td>\n      <td>0</td>\n      <td>1</td>\n      <td>1</td>\n      <td>1</td>\n      <td>0</td>\n    </tr>\n    <tr>\n      <th>Energie u. Nachhalti</th>\n      <td>1</td>\n      <td>1</td>\n      <td>1</td>\n      <td>1</td>\n      <td>1</td>\n      <td>1</td>\n    </tr>\n    <tr>\n      <th>Bilat. Zusammenarb.</th>\n      <td>1</td>\n      <td>1</td>\n      <td>1</td>\n      <td>1</td>\n      <td>1</td>\n      <td>1</td>\n    </tr>\n    <tr>\n      <th>BSG</th>\n      <td>1</td>\n      <td>0</td>\n      <td>1</td>\n      <td>1</td>\n      <td>1</td>\n      <td>0</td>\n    </tr>\n    <tr>\n      <th>Goethe-Institut</th>\n      <td>1</td>\n      <td>0</td>\n      <td>1</td>\n      <td>1</td>\n      <td>1</td>\n      <td>0</td>\n    </tr>\n  </tbody>\n</table>\n<p>103 rows × 6 columns</p>\n</div>"
     },
     "execution_count": 5,
     "metadata": {},
     "output_type": "execute_result"
    }
   ],
   "source": [
    "df.groupby(\"user\").nunique().sort_values(by=\"id\",ascending=False)"
   ],
   "metadata": {
    "collapsed": false,
    "pycharm": {
     "name": "#%%\n"
    }
   }
  },
  {
   "cell_type": "markdown",
   "source": [
    "# The biggest real estate categories"
   ],
   "metadata": {
    "collapsed": false
   }
  },
  {
   "cell_type": "code",
   "execution_count": 6,
   "outputs": [
    {
     "data": {
      "text/plain": "                           id  postcode  city  street  user   size\narea                                                              \nWohnen                  52772       768   748   11678     4   3630\nUnbekannt               35061       591   528    1000   100  11146\nGewerbe/sonst. Nutzung  33121      1575  1882    9024     7   7465\n Bundeswehr             28498       587   525     976     7   9293\nDienstliegenschaften    18938      1725  1498    4111   100   9474\nBundesforst              7158      1377  1835    1080     2   5180\nVerwaltungsaufgaben       594       241   241     240     2    370",
      "text/html": "<div>\n<style scoped>\n    .dataframe tbody tr th:only-of-type {\n        vertical-align: middle;\n    }\n\n    .dataframe tbody tr th {\n        vertical-align: top;\n    }\n\n    .dataframe thead th {\n        text-align: right;\n    }\n</style>\n<table border=\"1\" class=\"dataframe\">\n  <thead>\n    <tr style=\"text-align: right;\">\n      <th></th>\n      <th>id</th>\n      <th>postcode</th>\n      <th>city</th>\n      <th>street</th>\n      <th>user</th>\n      <th>size</th>\n    </tr>\n    <tr>\n      <th>area</th>\n      <th></th>\n      <th></th>\n      <th></th>\n      <th></th>\n      <th></th>\n      <th></th>\n    </tr>\n  </thead>\n  <tbody>\n    <tr>\n      <th>Wohnen</th>\n      <td>52772</td>\n      <td>768</td>\n      <td>748</td>\n      <td>11678</td>\n      <td>4</td>\n      <td>3630</td>\n    </tr>\n    <tr>\n      <th>Unbekannt</th>\n      <td>35061</td>\n      <td>591</td>\n      <td>528</td>\n      <td>1000</td>\n      <td>100</td>\n      <td>11146</td>\n    </tr>\n    <tr>\n      <th>Gewerbe/sonst. Nutzung</th>\n      <td>33121</td>\n      <td>1575</td>\n      <td>1882</td>\n      <td>9024</td>\n      <td>7</td>\n      <td>7465</td>\n    </tr>\n    <tr>\n      <th>Bundeswehr</th>\n      <td>28498</td>\n      <td>587</td>\n      <td>525</td>\n      <td>976</td>\n      <td>7</td>\n      <td>9293</td>\n    </tr>\n    <tr>\n      <th>Dienstliegenschaften</th>\n      <td>18938</td>\n      <td>1725</td>\n      <td>1498</td>\n      <td>4111</td>\n      <td>100</td>\n      <td>9474</td>\n    </tr>\n    <tr>\n      <th>Bundesforst</th>\n      <td>7158</td>\n      <td>1377</td>\n      <td>1835</td>\n      <td>1080</td>\n      <td>2</td>\n      <td>5180</td>\n    </tr>\n    <tr>\n      <th>Verwaltungsaufgaben</th>\n      <td>594</td>\n      <td>241</td>\n      <td>241</td>\n      <td>240</td>\n      <td>2</td>\n      <td>370</td>\n    </tr>\n  </tbody>\n</table>\n</div>"
     },
     "execution_count": 6,
     "metadata": {},
     "output_type": "execute_result"
    }
   ],
   "source": [
    "df.groupby(\"area\").nunique().sort_values(by=\"id\",ascending=False)"
   ],
   "metadata": {
    "collapsed": false,
    "pycharm": {
     "name": "#%%\n"
    }
   }
  },
  {
   "cell_type": "markdown",
   "source": [
    "# Managed property per category; sorted by size"
   ],
   "metadata": {
    "collapsed": false
   }
  },
  {
   "cell_type": "code",
   "execution_count": 7,
   "outputs": [
    {
     "data": {
      "text/plain": "                                size\narea                                \nBundesforst             1.250452e+09\nUnbekannt               1.064645e+09\n Bundeswehr             1.053773e+09\nGewerbe/sonst. Nutzung  9.878014e+07\nDienstliegenschaften    6.608605e+07\nVerwaltungsaufgaben     1.499094e+07\nWohnen                  3.345593e+06",
      "text/html": "<div>\n<style scoped>\n    .dataframe tbody tr th:only-of-type {\n        vertical-align: middle;\n    }\n\n    .dataframe tbody tr th {\n        vertical-align: top;\n    }\n\n    .dataframe thead th {\n        text-align: right;\n    }\n</style>\n<table border=\"1\" class=\"dataframe\">\n  <thead>\n    <tr style=\"text-align: right;\">\n      <th></th>\n      <th>size</th>\n    </tr>\n    <tr>\n      <th>area</th>\n      <th></th>\n    </tr>\n  </thead>\n  <tbody>\n    <tr>\n      <th>Bundesforst</th>\n      <td>1.250452e+09</td>\n    </tr>\n    <tr>\n      <th>Unbekannt</th>\n      <td>1.064645e+09</td>\n    </tr>\n    <tr>\n      <th>Bundeswehr</th>\n      <td>1.053773e+09</td>\n    </tr>\n    <tr>\n      <th>Gewerbe/sonst. Nutzung</th>\n      <td>9.878014e+07</td>\n    </tr>\n    <tr>\n      <th>Dienstliegenschaften</th>\n      <td>6.608605e+07</td>\n    </tr>\n    <tr>\n      <th>Verwaltungsaufgaben</th>\n      <td>1.499094e+07</td>\n    </tr>\n    <tr>\n      <th>Wohnen</th>\n      <td>3.345593e+06</td>\n    </tr>\n  </tbody>\n</table>\n</div>"
     },
     "execution_count": 7,
     "metadata": {},
     "output_type": "execute_result"
    }
   ],
   "source": [
    "df.groupby(\"area\").sum().drop(columns=[\"id\",\"postcode\"]).sort_values(by=\"size\", ascending=False)"
   ],
   "metadata": {
    "collapsed": false,
    "pycharm": {
     "name": "#%%\n"
    }
   }
  },
  {
   "cell_type": "markdown",
   "source": [
    "# Managed property by user; sorted by size"
   ],
   "metadata": {
    "collapsed": false
   }
  },
  {
   "cell_type": "code",
   "execution_count": 8,
   "outputs": [
    {
     "data": {
      "text/plain": "                              size\nuser                              \nUnbekannt             2.517642e+09\nBMVg.-Unterbringung   1.017131e+09\nBundespolizei         5.587492e+06\nJulius-Kühn-Institut  2.889755e+06\nMax-Rubner-Institut   1.443736e+06\n...                            ...\nsonst. Bewil.(BMELV)  1.405000e+02\nBI f. Sportwissensch  1.145200e+02\nSonst. Bewilligungen  0.000000e+00\nGoethe-Institut       0.000000e+00\nBSG                   0.000000e+00\n\n[103 rows x 1 columns]",
      "text/html": "<div>\n<style scoped>\n    .dataframe tbody tr th:only-of-type {\n        vertical-align: middle;\n    }\n\n    .dataframe tbody tr th {\n        vertical-align: top;\n    }\n\n    .dataframe thead th {\n        text-align: right;\n    }\n</style>\n<table border=\"1\" class=\"dataframe\">\n  <thead>\n    <tr style=\"text-align: right;\">\n      <th></th>\n      <th>size</th>\n    </tr>\n    <tr>\n      <th>user</th>\n      <th></th>\n    </tr>\n  </thead>\n  <tbody>\n    <tr>\n      <th>Unbekannt</th>\n      <td>2.517642e+09</td>\n    </tr>\n    <tr>\n      <th>BMVg.-Unterbringung</th>\n      <td>1.017131e+09</td>\n    </tr>\n    <tr>\n      <th>Bundespolizei</th>\n      <td>5.587492e+06</td>\n    </tr>\n    <tr>\n      <th>Julius-Kühn-Institut</th>\n      <td>2.889755e+06</td>\n    </tr>\n    <tr>\n      <th>Max-Rubner-Institut</th>\n      <td>1.443736e+06</td>\n    </tr>\n    <tr>\n      <th>...</th>\n      <td>...</td>\n    </tr>\n    <tr>\n      <th>sonst. Bewil.(BMELV)</th>\n      <td>1.405000e+02</td>\n    </tr>\n    <tr>\n      <th>BI f. Sportwissensch</th>\n      <td>1.145200e+02</td>\n    </tr>\n    <tr>\n      <th>Sonst. Bewilligungen</th>\n      <td>0.000000e+00</td>\n    </tr>\n    <tr>\n      <th>Goethe-Institut</th>\n      <td>0.000000e+00</td>\n    </tr>\n    <tr>\n      <th>BSG</th>\n      <td>0.000000e+00</td>\n    </tr>\n  </tbody>\n</table>\n<p>103 rows × 1 columns</p>\n</div>"
     },
     "execution_count": 8,
     "metadata": {},
     "output_type": "execute_result"
    }
   ],
   "source": [
    "df.groupby(\"user\").sum().drop(columns=[\"id\",\"postcode\"]).sort_values(by=\"size\", ascending=False)"
   ],
   "metadata": {
    "collapsed": false,
    "pycharm": {
     "name": "#%%\n"
    }
   }
  },
  {
   "cell_type": "markdown",
   "source": [
    "# 10 Biggest properties"
   ],
   "metadata": {
    "collapsed": false
   }
  },
  {
   "cell_type": "code",
   "execution_count": 9,
   "outputs": [
    {
     "data": {
      "text/plain": "            id  postcode                           city  \\\n172504  136529     29683                     Osterheide   \n212709  163077     39638                     Gardelegen   \n213560  163637      2957                     Weißkeißel   \n212707  163076     39638                     Gardelegen   \n172503  136528     29683                     Osterheide   \n199387  154294     17358                       Torgelow   \n212538  162965     39291                        Möckern   \n116043   99304     16831  Rheinsberg OT Flecken Zechlin   \n172498  136523     29633                        Munster   \n211506  162284      6925                       Annaburg   \n\n                                     street         area                 user  \\\n172504                                 N.N.    Unbekannt            Unbekannt   \n212709                 Salchauer Chaussee 1    Unbekannt            Unbekannt   \n213560  Muskauer Forst Dienstliegenschaften   Bundeswehr  BMVg.-Unterbringung   \n212707                 Salchauer Chaussee 1    Unbekannt            Unbekannt   \n172503            N.N. Dienstliegenschaften   Bundeswehr  BMVg.-Unterbringung   \n199387                Pasewalker Chaussee 7    Unbekannt            Unbekannt   \n212538        Bergstr. Dienstliegenschaften   Bundeswehr  BMVg.-Unterbringung   \n116043                             SCHONORT  Bundesforst            Unbekannt   \n172498    Zw. B 209 u. Pl.-Randstr. Brockhs    Unbekannt            Unbekannt   \n211506                     Annaburger Heide    Unbekannt            Unbekannt   \n\n               size  \n172504  143505160.0  \n212709  121003889.0  \n213560  113392861.0  \n212707  112234400.0  \n172503  108444570.0  \n199387   93386240.0  \n212538   91173377.0  \n116043   82487930.0  \n172498   75715466.0  \n211506   70751500.0  ",
      "text/html": "<div>\n<style scoped>\n    .dataframe tbody tr th:only-of-type {\n        vertical-align: middle;\n    }\n\n    .dataframe tbody tr th {\n        vertical-align: top;\n    }\n\n    .dataframe thead th {\n        text-align: right;\n    }\n</style>\n<table border=\"1\" class=\"dataframe\">\n  <thead>\n    <tr style=\"text-align: right;\">\n      <th></th>\n      <th>id</th>\n      <th>postcode</th>\n      <th>city</th>\n      <th>street</th>\n      <th>area</th>\n      <th>user</th>\n      <th>size</th>\n    </tr>\n  </thead>\n  <tbody>\n    <tr>\n      <th>172504</th>\n      <td>136529</td>\n      <td>29683</td>\n      <td>Osterheide</td>\n      <td>N.N.</td>\n      <td>Unbekannt</td>\n      <td>Unbekannt</td>\n      <td>143505160.0</td>\n    </tr>\n    <tr>\n      <th>212709</th>\n      <td>163077</td>\n      <td>39638</td>\n      <td>Gardelegen</td>\n      <td>Salchauer Chaussee 1</td>\n      <td>Unbekannt</td>\n      <td>Unbekannt</td>\n      <td>121003889.0</td>\n    </tr>\n    <tr>\n      <th>213560</th>\n      <td>163637</td>\n      <td>2957</td>\n      <td>Weißkeißel</td>\n      <td>Muskauer Forst Dienstliegenschaften</td>\n      <td>Bundeswehr</td>\n      <td>BMVg.-Unterbringung</td>\n      <td>113392861.0</td>\n    </tr>\n    <tr>\n      <th>212707</th>\n      <td>163076</td>\n      <td>39638</td>\n      <td>Gardelegen</td>\n      <td>Salchauer Chaussee 1</td>\n      <td>Unbekannt</td>\n      <td>Unbekannt</td>\n      <td>112234400.0</td>\n    </tr>\n    <tr>\n      <th>172503</th>\n      <td>136528</td>\n      <td>29683</td>\n      <td>Osterheide</td>\n      <td>N.N. Dienstliegenschaften</td>\n      <td>Bundeswehr</td>\n      <td>BMVg.-Unterbringung</td>\n      <td>108444570.0</td>\n    </tr>\n    <tr>\n      <th>199387</th>\n      <td>154294</td>\n      <td>17358</td>\n      <td>Torgelow</td>\n      <td>Pasewalker Chaussee 7</td>\n      <td>Unbekannt</td>\n      <td>Unbekannt</td>\n      <td>93386240.0</td>\n    </tr>\n    <tr>\n      <th>212538</th>\n      <td>162965</td>\n      <td>39291</td>\n      <td>Möckern</td>\n      <td>Bergstr. Dienstliegenschaften</td>\n      <td>Bundeswehr</td>\n      <td>BMVg.-Unterbringung</td>\n      <td>91173377.0</td>\n    </tr>\n    <tr>\n      <th>116043</th>\n      <td>99304</td>\n      <td>16831</td>\n      <td>Rheinsberg OT Flecken Zechlin</td>\n      <td>SCHONORT</td>\n      <td>Bundesforst</td>\n      <td>Unbekannt</td>\n      <td>82487930.0</td>\n    </tr>\n    <tr>\n      <th>172498</th>\n      <td>136523</td>\n      <td>29633</td>\n      <td>Munster</td>\n      <td>Zw. B 209 u. Pl.-Randstr. Brockhs</td>\n      <td>Unbekannt</td>\n      <td>Unbekannt</td>\n      <td>75715466.0</td>\n    </tr>\n    <tr>\n      <th>211506</th>\n      <td>162284</td>\n      <td>6925</td>\n      <td>Annaburg</td>\n      <td>Annaburger Heide</td>\n      <td>Unbekannt</td>\n      <td>Unbekannt</td>\n      <td>70751500.0</td>\n    </tr>\n  </tbody>\n</table>\n</div>"
     },
     "execution_count": 9,
     "metadata": {},
     "output_type": "execute_result"
    }
   ],
   "source": [
    "df.sort_values(by=\"size\",ascending=False).head(10)"
   ],
   "metadata": {
    "collapsed": false,
    "pycharm": {
     "name": "#%%\n"
    }
   }
  },
  {
   "cell_type": "markdown",
   "source": [
    "# 10 Smallest properties (with a size bigger than 0)"
   ],
   "metadata": {
    "collapsed": false
   }
  },
  {
   "cell_type": "code",
   "execution_count": 10,
   "outputs": [
    {
     "data": {
      "text/plain": "          id  postcode           city                  street  \\\n88976  81461     14167         Berlin         Jänickestraße 1   \n22642  23163     26441          Jever   Auf der Dreesche u.a.   \n22330  22843     26441          Jever   Auf der Dreesche u.a.   \n89872  82051     12435         Berlin        Puschkinallee 52   \n47210  48295      6120  Halle (Saale)  Vogelsang/Am Heiderand   \n47209  48294      6120  Halle (Saale)  Vogelsang/Am Heiderand   \n47208  48293      6120  Halle (Saale)  Vogelsang/Am Heiderand   \n47207  48292      6120  Halle (Saale)  Vogelsang/Am Heiderand   \n47206  48291      6120  Halle (Saale)  Vogelsang/Am Heiderand   \n87465  80466      6120  Halle (Saale)  Vogelsang/Am Heiderand   \n\n                       area       user   size  \n88976                Wohnen  Unbekannt  0.001  \n22642                Wohnen  Unbekannt  0.001  \n22330                Wohnen  Unbekannt  0.001  \n89872  Dienstliegenschaften  Unbekannt  0.010  \n47210                Wohnen  Unbekannt  0.010  \n47209                Wohnen  Unbekannt  0.010  \n47208                Wohnen  Unbekannt  0.010  \n47207                Wohnen  Unbekannt  0.010  \n47206                Wohnen  Unbekannt  0.010  \n87465                Wohnen  Unbekannt  0.010  ",
      "text/html": "<div>\n<style scoped>\n    .dataframe tbody tr th:only-of-type {\n        vertical-align: middle;\n    }\n\n    .dataframe tbody tr th {\n        vertical-align: top;\n    }\n\n    .dataframe thead th {\n        text-align: right;\n    }\n</style>\n<table border=\"1\" class=\"dataframe\">\n  <thead>\n    <tr style=\"text-align: right;\">\n      <th></th>\n      <th>id</th>\n      <th>postcode</th>\n      <th>city</th>\n      <th>street</th>\n      <th>area</th>\n      <th>user</th>\n      <th>size</th>\n    </tr>\n  </thead>\n  <tbody>\n    <tr>\n      <th>88976</th>\n      <td>81461</td>\n      <td>14167</td>\n      <td>Berlin</td>\n      <td>Jänickestraße 1</td>\n      <td>Wohnen</td>\n      <td>Unbekannt</td>\n      <td>0.001</td>\n    </tr>\n    <tr>\n      <th>22642</th>\n      <td>23163</td>\n      <td>26441</td>\n      <td>Jever</td>\n      <td>Auf der Dreesche u.a.</td>\n      <td>Wohnen</td>\n      <td>Unbekannt</td>\n      <td>0.001</td>\n    </tr>\n    <tr>\n      <th>22330</th>\n      <td>22843</td>\n      <td>26441</td>\n      <td>Jever</td>\n      <td>Auf der Dreesche u.a.</td>\n      <td>Wohnen</td>\n      <td>Unbekannt</td>\n      <td>0.001</td>\n    </tr>\n    <tr>\n      <th>89872</th>\n      <td>82051</td>\n      <td>12435</td>\n      <td>Berlin</td>\n      <td>Puschkinallee 52</td>\n      <td>Dienstliegenschaften</td>\n      <td>Unbekannt</td>\n      <td>0.010</td>\n    </tr>\n    <tr>\n      <th>47210</th>\n      <td>48295</td>\n      <td>6120</td>\n      <td>Halle (Saale)</td>\n      <td>Vogelsang/Am Heiderand</td>\n      <td>Wohnen</td>\n      <td>Unbekannt</td>\n      <td>0.010</td>\n    </tr>\n    <tr>\n      <th>47209</th>\n      <td>48294</td>\n      <td>6120</td>\n      <td>Halle (Saale)</td>\n      <td>Vogelsang/Am Heiderand</td>\n      <td>Wohnen</td>\n      <td>Unbekannt</td>\n      <td>0.010</td>\n    </tr>\n    <tr>\n      <th>47208</th>\n      <td>48293</td>\n      <td>6120</td>\n      <td>Halle (Saale)</td>\n      <td>Vogelsang/Am Heiderand</td>\n      <td>Wohnen</td>\n      <td>Unbekannt</td>\n      <td>0.010</td>\n    </tr>\n    <tr>\n      <th>47207</th>\n      <td>48292</td>\n      <td>6120</td>\n      <td>Halle (Saale)</td>\n      <td>Vogelsang/Am Heiderand</td>\n      <td>Wohnen</td>\n      <td>Unbekannt</td>\n      <td>0.010</td>\n    </tr>\n    <tr>\n      <th>47206</th>\n      <td>48291</td>\n      <td>6120</td>\n      <td>Halle (Saale)</td>\n      <td>Vogelsang/Am Heiderand</td>\n      <td>Wohnen</td>\n      <td>Unbekannt</td>\n      <td>0.010</td>\n    </tr>\n    <tr>\n      <th>87465</th>\n      <td>80466</td>\n      <td>6120</td>\n      <td>Halle (Saale)</td>\n      <td>Vogelsang/Am Heiderand</td>\n      <td>Wohnen</td>\n      <td>Unbekannt</td>\n      <td>0.010</td>\n    </tr>\n  </tbody>\n</table>\n</div>"
     },
     "execution_count": 10,
     "metadata": {},
     "output_type": "execute_result"
    }
   ],
   "source": [
    "df[df[\"size\"]>0].sort_values(by=\"size\",ascending=True).head(10)\n",
    "### Weird results"
   ],
   "metadata": {
    "collapsed": false,
    "pycharm": {
     "name": "#%%\n"
    }
   }
  },
  {
   "cell_type": "markdown",
   "source": [
    "# Distribution of the property size"
   ],
   "metadata": {
    "collapsed": false
   }
  },
  {
   "cell_type": "code",
   "execution_count": 11,
   "outputs": [
    {
     "data": {
      "text/plain": "count    1.761400e+05\nmean     2.016619e+04\nstd      9.011719e+05\nmin      0.000000e+00\n25%      1.040000e+01\n50%      6.530000e+01\n75%      2.500000e+02\nmax      1.435052e+08\nName: size, dtype: float64"
     },
     "execution_count": 11,
     "metadata": {},
     "output_type": "execute_result"
    }
   ],
   "source": [
    "df[\"size\"].describe()"
   ],
   "metadata": {
    "collapsed": false,
    "pycharm": {
     "name": "#%%\n"
    }
   }
  },
  {
   "cell_type": "code",
   "execution_count": 12,
   "outputs": [
    {
     "data": {
      "text/plain": "<AxesSubplot:>"
     },
     "execution_count": 12,
     "metadata": {},
     "output_type": "execute_result"
    },
    {
     "data": {
      "text/plain": "<Figure size 432x288 with 1 Axes>",
      "image/png": "[encoded data removed]"
     },
     "metadata": {
      "needs_background": "light"
     },
     "output_type": "display_data"
    }
   ],
   "source": [
    "df[\"size\"].hist(bins=50,log=True)"
   ],
   "metadata": {
    "collapsed": false,
    "pycharm": {
     "name": "#%%\n"
    }
   }
  },
  {
   "cell_type": "markdown",
   "source": [
    "## Soo many small ones... let's zoom in"
   ],
   "metadata": {
    "collapsed": false
   }
  },
  {
   "cell_type": "code",
   "execution_count": 13,
   "outputs": [
    {
     "data": {
      "text/plain": "<AxesSubplot:>"
     },
     "execution_count": 13,
     "metadata": {},
     "output_type": "execute_result"
    },
    {
     "data": {
      "text/plain": "<Figure size 432x288 with 1 Axes>",
      "image/png": "[encoded data removed]"
     },
     "metadata": {
      "needs_background": "light"
     },
     "output_type": "display_data"
    }
   ],
   "source": [
    "df[df[\"size\"]<0.2e8][\"size\"].hist(bins=50,log=True)"
   ],
   "metadata": {
    "collapsed": false,
    "pycharm": {
     "name": "#%%\n"
    }
   }
  },
  {
   "cell_type": "markdown",
   "source": [
    "### Lots of small properties"
   ],
   "metadata": {
    "collapsed": false
   }
  },
  {
   "cell_type": "code",
   "execution_count": 14,
   "outputs": [
    {
     "data": {
      "text/plain": "<AxesSubplot:>"
     },
     "execution_count": 14,
     "metadata": {},
     "output_type": "execute_result"
    },
    {
     "data": {
      "text/plain": "<Figure size 432x288 with 1 Axes>",
      "image/png": "[encoded data removed]"
     },
     "metadata": {
      "needs_background": "light"
     },
     "output_type": "display_data"
    }
   ],
   "source": [
    "df[df[\"size\"]<100][\"size\"].hist(bins=50,log=True)"
   ],
   "metadata": {
    "collapsed": false,
    "pycharm": {
     "name": "#%%\n"
    }
   }
  },
  {
   "cell_type": "code",
   "execution_count": 15,
   "outputs": [],
   "source": [
    "# I need coffee"
   ],
   "metadata": {
    "collapsed": false,
    "pycharm": {
     "name": "#%%\n"
    }
   }
  },
  {
   "cell_type": "code",
   "execution_count": 15,
   "outputs": [],
   "source": [],
   "metadata": {
    "collapsed": false,
    "pycharm": {
     "name": "#%%\n"
    }
   }
  }
 ],
 "metadata": {
  "kernelspec": {
   "display_name": "Python 3",
   "language": "python",
   "name": "python3"
  },
  "language_info": {
   "codemirror_mode": {
    "name": "ipython",
    "version": 2
   },
   "file_extension": ".py",
   "mimetype": "text/x-python",
   "name": "python",
   "nbconvert_exporter": "python",
   "pygments_lexer": "ipython2",
   "version": "2.7.6"
  }
 },
 "nbformat": 4,
 "nbformat_minor": 0
}