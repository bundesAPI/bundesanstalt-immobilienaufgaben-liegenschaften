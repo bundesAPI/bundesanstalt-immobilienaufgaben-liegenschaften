{
 "cells": [
  {
   "cell_type": "code",
   "execution_count": 1,
   "metadata": {
    "collapsed": true
   },
   "outputs": [],
   "source": [
    "import pandas as pd"
   ]
  },
  {
   "cell_type": "code",
   "execution_count": 2,
   "outputs": [],
   "source": [
    "df = pd.read_parquet(\"Anlage.parquet\")"
   ],
   "metadata": {
    "collapsed": false,
    "pycharm": {
     "name": "#%%\n"
    }
   }
  },
  {
   "cell_type": "code",
   "execution_count": 3,
   "outputs": [
    {
     "data": {
      "text/plain": "        lfd. Nr.    PLZ                   Ort                 Straße    Nr  \\\n104855    104856  86929               Penzing       Kauferinger Str.    48   \n86411      86412  16827             Zermützel        Am Zermützelsee  None   \n13786      13787  18435             Stralsund          A.-Zweig-Str.  None   \n146074    146075  22049               Hamburg           Lesserstraße   180   \n75437      75438   1796                 Pirna  Rottwerndorfer Straße   45p   \n174486    174487  41844               Wegberg      Canberra Crescent    14   \n159163    159164  27639  Wurster Nordseeküste   Peter-Strasser-Platz     1   \n110266    110267   <NA>                  None                   None  None   \n165125    165126  86836                Graben       Landsberger Str.     7   \n80346      80347  18069               Rostock   Schulenburgstraße 12  None   \n\n       Geschäftsbereich (Art der Liegenschaft) Bezeichnung Branche/Nutzer  \\\n104855                  Gewerbe/sonst. Nutzung                  Unbekannt   \n86411                   Gewerbe/sonst. Nutzung                  Unbekannt   \n13786                   Gewerbe/sonst. Nutzung                  Unbekannt   \n146074         Dienstliegenschaften Bundeswehr        BMVg.-Unterbringung   \n75437                     Dienstliegenschaften          Bundesanstalt THW   \n174486                  Gewerbe/sonst. Nutzung                  Unbekannt   \n159163         Dienstliegenschaften Bundeswehr        BMVg.-Unterbringung   \n110266         Dienstliegenschaften Bundeswehr                  Unbekannt   \n165125         Dienstliegenschaften Bundeswehr        BMVg.-Unterbringung   \n80346                                   Wohnen                  Unbekannt   \n\n        Objektfläche m²  \n104855             0.00  \n86411             45.41  \n13786             20.00  \n146074          2835.00  \n75437             68.00  \n174486           122.00  \n159163           332.30  \n110266             0.00  \n165125           325.00  \n80346             65.70  ",
      "text/html": "<div>\n<style scoped>\n    .dataframe tbody tr th:only-of-type {\n        vertical-align: middle;\n    }\n\n    .dataframe tbody tr th {\n        vertical-align: top;\n    }\n\n    .dataframe thead th {\n        text-align: right;\n    }\n</style>\n<table border=\"1\" class=\"dataframe\">\n  <thead>\n    <tr style=\"text-align: right;\">\n      <th></th>\n      <th>lfd. Nr.</th>\n      <th>PLZ</th>\n      <th>Ort</th>\n      <th>Straße</th>\n      <th>Nr</th>\n      <th>Geschäftsbereich (Art der Liegenschaft)</th>\n      <th>Bezeichnung Branche/Nutzer</th>\n      <th>Objektfläche m²</th>\n    </tr>\n  </thead>\n  <tbody>\n    <tr>\n      <th>104855</th>\n      <td>104856</td>\n      <td>86929</td>\n      <td>Penzing</td>\n      <td>Kauferinger Str.</td>\n      <td>48</td>\n      <td>Gewerbe/sonst. Nutzung</td>\n      <td>Unbekannt</td>\n      <td>0.00</td>\n    </tr>\n    <tr>\n      <th>86411</th>\n      <td>86412</td>\n      <td>16827</td>\n      <td>Zermützel</td>\n      <td>Am Zermützelsee</td>\n      <td>None</td>\n      <td>Gewerbe/sonst. Nutzung</td>\n      <td>Unbekannt</td>\n      <td>45.41</td>\n    </tr>\n    <tr>\n      <th>13786</th>\n      <td>13787</td>\n      <td>18435</td>\n      <td>Stralsund</td>\n      <td>A.-Zweig-Str.</td>\n      <td>None</td>\n      <td>Gewerbe/sonst. Nutzung</td>\n      <td>Unbekannt</td>\n      <td>20.00</td>\n    </tr>\n    <tr>\n      <th>146074</th>\n      <td>146075</td>\n      <td>22049</td>\n      <td>Hamburg</td>\n      <td>Lesserstraße</td>\n      <td>180</td>\n      <td>Dienstliegenschaften Bundeswehr</td>\n      <td>BMVg.-Unterbringung</td>\n      <td>2835.00</td>\n    </tr>\n    <tr>\n      <th>75437</th>\n      <td>75438</td>\n      <td>1796</td>\n      <td>Pirna</td>\n      <td>Rottwerndorfer Straße</td>\n      <td>45p</td>\n      <td>Dienstliegenschaften</td>\n      <td>Bundesanstalt THW</td>\n      <td>68.00</td>\n    </tr>\n    <tr>\n      <th>174486</th>\n      <td>174487</td>\n      <td>41844</td>\n      <td>Wegberg</td>\n      <td>Canberra Crescent</td>\n      <td>14</td>\n      <td>Gewerbe/sonst. Nutzung</td>\n      <td>Unbekannt</td>\n      <td>122.00</td>\n    </tr>\n    <tr>\n      <th>159163</th>\n      <td>159164</td>\n      <td>27639</td>\n      <td>Wurster Nordseeküste</td>\n      <td>Peter-Strasser-Platz</td>\n      <td>1</td>\n      <td>Dienstliegenschaften Bundeswehr</td>\n      <td>BMVg.-Unterbringung</td>\n      <td>332.30</td>\n    </tr>\n    <tr>\n      <th>110266</th>\n      <td>110267</td>\n      <td>&lt;NA&gt;</td>\n      <td>None</td>\n      <td>None</td>\n      <td>None</td>\n      <td>Dienstliegenschaften Bundeswehr</td>\n      <td>Unbekannt</td>\n      <td>0.00</td>\n    </tr>\n    <tr>\n      <th>165125</th>\n      <td>165126</td>\n      <td>86836</td>\n      <td>Graben</td>\n      <td>Landsberger Str.</td>\n      <td>7</td>\n      <td>Dienstliegenschaften Bundeswehr</td>\n      <td>BMVg.-Unterbringung</td>\n      <td>325.00</td>\n    </tr>\n    <tr>\n      <th>80346</th>\n      <td>80347</td>\n      <td>18069</td>\n      <td>Rostock</td>\n      <td>Schulenburgstraße 12</td>\n      <td>None</td>\n      <td>Wohnen</td>\n      <td>Unbekannt</td>\n      <td>65.70</td>\n    </tr>\n  </tbody>\n</table>\n</div>"
     },
     "execution_count": 3,
     "metadata": {},
     "output_type": "execute_result"
    }
   ],
   "source": [
    "df.sample(10)"
   ],
   "metadata": {
    "collapsed": false,
    "pycharm": {
     "name": "#%%\n"
    }
   }
  },
  {
   "cell_type": "markdown",
   "source": [
    "# Which \"User\" owns the most unique! stuff"
   ],
   "metadata": {
    "collapsed": false
   }
  },
  {
   "cell_type": "code",
   "execution_count": 4,
   "outputs": [
    {
     "data": {
      "text/plain": "                            lfd. Nr.   PLZ   Ort  Straße    Nr  \\\nBezeichnung Branche/Nutzer                                       \nUnbekannt                     132836  3123  4073   17981  2528   \nBMVg.-Unterbringung            33545   634   563     999   259   \nBundesanstalt THW               3099   740   715     836   217   \nGeneralzolldirektion            2917   489   450     824   237   \nBundespolizei                   2054   248   222     327   128   \n...                              ...   ...   ...     ...   ...   \nEnergie u. Nachhalti               1     1     1       1     1   \nBilat. Zusammenarb.                1     1     1       1     1   \nSonst. Bewilligungen               1     1     1       1     1   \nKVdB                               1     1     1       1     1   \nBA kernt. EntsorgSic               1     1     1       1     1   \n\n                            Geschäftsbereich (Art der Liegenschaft)  \\\nBezeichnung Branche/Nutzer                                            \nUnbekannt                                                         6   \nBMVg.-Unterbringung                                               3   \nBundesanstalt THW                                                 3   \nGeneralzolldirektion                                              3   \nBundespolizei                                                     1   \n...                                                             ...   \nEnergie u. Nachhalti                                              1   \nBilat. Zusammenarb.                                               1   \nSonst. Bewilligungen                                              1   \nKVdB                                                              1   \nBA kernt. EntsorgSic                                              1   \n\n                            Objektfläche m²  \nBezeichnung Branche/Nutzer                   \nUnbekannt                             15875  \nBMVg.-Unterbringung                   18856  \nBundesanstalt THW                      2075  \nGeneralzolldirektion                   1726  \nBundespolizei                          1592  \n...                                     ...  \nEnergie u. Nachhalti                      1  \nBilat. Zusammenarb.                       1  \nSonst. Bewilligungen                      1  \nKVdB                                      1  \nBA kernt. EntsorgSic                      1  \n\n[105 rows x 7 columns]",
      "text/html": "<div>\n<style scoped>\n    .dataframe tbody tr th:only-of-type {\n        vertical-align: middle;\n    }\n\n    .dataframe tbody tr th {\n        vertical-align: top;\n    }\n\n    .dataframe thead th {\n        text-align: right;\n    }\n</style>\n<table border=\"1\" class=\"dataframe\">\n  <thead>\n    <tr style=\"text-align: right;\">\n      <th></th>\n      <th>lfd. Nr.</th>\n      <th>PLZ</th>\n      <th>Ort</th>\n      <th>Straße</th>\n      <th>Nr</th>\n      <th>Geschäftsbereich (Art der Liegenschaft)</th>\n      <th>Objektfläche m²</th>\n    </tr>\n    <tr>\n      <th>Bezeichnung Branche/Nutzer</th>\n      <th></th>\n      <th></th>\n      <th></th>\n      <th></th>\n      <th></th>\n      <th></th>\n      <th></th>\n    </tr>\n  </thead>\n  <tbody>\n    <tr>\n      <th>Unbekannt</th>\n      <td>132836</td>\n      <td>3123</td>\n      <td>4073</td>\n      <td>17981</td>\n      <td>2528</td>\n      <td>6</td>\n      <td>15875</td>\n    </tr>\n    <tr>\n      <th>BMVg.-Unterbringung</th>\n      <td>33545</td>\n      <td>634</td>\n      <td>563</td>\n      <td>999</td>\n      <td>259</td>\n      <td>3</td>\n      <td>18856</td>\n    </tr>\n    <tr>\n      <th>Bundesanstalt THW</th>\n      <td>3099</td>\n      <td>740</td>\n      <td>715</td>\n      <td>836</td>\n      <td>217</td>\n      <td>3</td>\n      <td>2075</td>\n    </tr>\n    <tr>\n      <th>Generalzolldirektion</th>\n      <td>2917</td>\n      <td>489</td>\n      <td>450</td>\n      <td>824</td>\n      <td>237</td>\n      <td>3</td>\n      <td>1726</td>\n    </tr>\n    <tr>\n      <th>Bundespolizei</th>\n      <td>2054</td>\n      <td>248</td>\n      <td>222</td>\n      <td>327</td>\n      <td>128</td>\n      <td>1</td>\n      <td>1592</td>\n    </tr>\n    <tr>\n      <th>...</th>\n      <td>...</td>\n      <td>...</td>\n      <td>...</td>\n      <td>...</td>\n      <td>...</td>\n      <td>...</td>\n      <td>...</td>\n    </tr>\n    <tr>\n      <th>Energie u. Nachhalti</th>\n      <td>1</td>\n      <td>1</td>\n      <td>1</td>\n      <td>1</td>\n      <td>1</td>\n      <td>1</td>\n      <td>1</td>\n    </tr>\n    <tr>\n      <th>Bilat. Zusammenarb.</th>\n      <td>1</td>\n      <td>1</td>\n      <td>1</td>\n      <td>1</td>\n      <td>1</td>\n      <td>1</td>\n      <td>1</td>\n    </tr>\n    <tr>\n      <th>Sonst. Bewilligungen</th>\n      <td>1</td>\n      <td>1</td>\n      <td>1</td>\n      <td>1</td>\n      <td>1</td>\n      <td>1</td>\n      <td>1</td>\n    </tr>\n    <tr>\n      <th>KVdB</th>\n      <td>1</td>\n      <td>1</td>\n      <td>1</td>\n      <td>1</td>\n      <td>1</td>\n      <td>1</td>\n      <td>1</td>\n    </tr>\n    <tr>\n      <th>BA kernt. EntsorgSic</th>\n      <td>1</td>\n      <td>1</td>\n      <td>1</td>\n      <td>1</td>\n      <td>1</td>\n      <td>1</td>\n      <td>1</td>\n    </tr>\n  </tbody>\n</table>\n<p>105 rows × 7 columns</p>\n</div>"
     },
     "execution_count": 4,
     "metadata": {},
     "output_type": "execute_result"
    }
   ],
   "source": [
    "df.groupby(\"Bezeichnung Branche/Nutzer\").nunique().sort_values(by=\"lfd. Nr.\",ascending=False)"
   ],
   "metadata": {
    "collapsed": false,
    "pycharm": {
     "name": "#%%\n"
    }
   }
  },
  {
   "cell_type": "markdown",
   "source": [
    "# The biggest real estate categories"
   ],
   "metadata": {
    "collapsed": false
   }
  },
  {
   "cell_type": "code",
   "execution_count": 5,
   "outputs": [
    {
     "data": {
      "text/plain": "                                         lfd. Nr.   PLZ   Ort  Straße    Nr  \\\nGeschäftsbereich (Art der Liegenschaft)                                       \nDienstliegenschaften Bundeswehr             65020   611   545     949   249   \nWohnen                                      53977   770   730    8138  1764   \nGewerbe/sonst. Nutzung                      33889  1583  1839    7039   756   \nDienstliegenschaften                        19369  1734  1493    3299   690   \nBundesforst                                  7329  1390  1837    1090    37   \nVerwaltungsaufgaben                           604   241   240     232    33   \n\n                                         Bezeichnung Branche/Nutzer  \\\nGeschäftsbereich (Art der Liegenschaft)                               \nDienstliegenschaften Bundeswehr                                   7   \nWohnen                                                            4   \nGewerbe/sonst. Nutzung                                            9   \nDienstliegenschaften                                            105   \nBundesforst                                                       2   \nVerwaltungsaufgaben                                               2   \n\n                                         Objektfläche m²  \nGeschäftsbereich (Art der Liegenschaft)                   \nDienstliegenschaften Bundeswehr                    18991  \nWohnen                                              3669  \nGewerbe/sonst. Nutzung                              7605  \nDienstliegenschaften                                9654  \nBundesforst                                         5281  \nVerwaltungsaufgaben                                  376  ",
      "text/html": "<div>\n<style scoped>\n    .dataframe tbody tr th:only-of-type {\n        vertical-align: middle;\n    }\n\n    .dataframe tbody tr th {\n        vertical-align: top;\n    }\n\n    .dataframe thead th {\n        text-align: right;\n    }\n</style>\n<table border=\"1\" class=\"dataframe\">\n  <thead>\n    <tr style=\"text-align: right;\">\n      <th></th>\n      <th>lfd. Nr.</th>\n      <th>PLZ</th>\n      <th>Ort</th>\n      <th>Straße</th>\n      <th>Nr</th>\n      <th>Bezeichnung Branche/Nutzer</th>\n      <th>Objektfläche m²</th>\n    </tr>\n    <tr>\n      <th>Geschäftsbereich (Art der Liegenschaft)</th>\n      <th></th>\n      <th></th>\n      <th></th>\n      <th></th>\n      <th></th>\n      <th></th>\n      <th></th>\n    </tr>\n  </thead>\n  <tbody>\n    <tr>\n      <th>Dienstliegenschaften Bundeswehr</th>\n      <td>65020</td>\n      <td>611</td>\n      <td>545</td>\n      <td>949</td>\n      <td>249</td>\n      <td>7</td>\n      <td>18991</td>\n    </tr>\n    <tr>\n      <th>Wohnen</th>\n      <td>53977</td>\n      <td>770</td>\n      <td>730</td>\n      <td>8138</td>\n      <td>1764</td>\n      <td>4</td>\n      <td>3669</td>\n    </tr>\n    <tr>\n      <th>Gewerbe/sonst. Nutzung</th>\n      <td>33889</td>\n      <td>1583</td>\n      <td>1839</td>\n      <td>7039</td>\n      <td>756</td>\n      <td>9</td>\n      <td>7605</td>\n    </tr>\n    <tr>\n      <th>Dienstliegenschaften</th>\n      <td>19369</td>\n      <td>1734</td>\n      <td>1493</td>\n      <td>3299</td>\n      <td>690</td>\n      <td>105</td>\n      <td>9654</td>\n    </tr>\n    <tr>\n      <th>Bundesforst</th>\n      <td>7329</td>\n      <td>1390</td>\n      <td>1837</td>\n      <td>1090</td>\n      <td>37</td>\n      <td>2</td>\n      <td>5281</td>\n    </tr>\n    <tr>\n      <th>Verwaltungsaufgaben</th>\n      <td>604</td>\n      <td>241</td>\n      <td>240</td>\n      <td>232</td>\n      <td>33</td>\n      <td>2</td>\n      <td>376</td>\n    </tr>\n  </tbody>\n</table>\n</div>"
     },
     "execution_count": 5,
     "metadata": {},
     "output_type": "execute_result"
    }
   ],
   "source": [
    "df.groupby(\"Geschäftsbereich (Art der Liegenschaft)\").nunique().sort_values(by=\"lfd. Nr.\",ascending=False)"
   ],
   "metadata": {
    "collapsed": false,
    "pycharm": {
     "name": "#%%\n"
    }
   }
  },
  {
   "cell_type": "markdown",
   "source": [
    "# Managed property per category; sorted by size"
   ],
   "metadata": {
    "collapsed": false
   }
  },
  {
   "cell_type": "code",
   "execution_count": 8,
   "outputs": [
    {
     "data": {
      "text/plain": "                                         Objektfläche m²\nGeschäftsbereich (Art der Liegenschaft)                 \nDienstliegenschaften Bundeswehr             2.129619e+09\nBundesforst                                 1.308551e+09\nGewerbe/sonst. Nutzung                      9.992754e+07\nDienstliegenschaften                        6.652432e+07\nVerwaltungsaufgaben                         1.499250e+07\nWohnen                                      3.423557e+06",
      "text/html": "<div>\n<style scoped>\n    .dataframe tbody tr th:only-of-type {\n        vertical-align: middle;\n    }\n\n    .dataframe tbody tr th {\n        vertical-align: top;\n    }\n\n    .dataframe thead th {\n        text-align: right;\n    }\n</style>\n<table border=\"1\" class=\"dataframe\">\n  <thead>\n    <tr style=\"text-align: right;\">\n      <th></th>\n      <th>Objektfläche m²</th>\n    </tr>\n    <tr>\n      <th>Geschäftsbereich (Art der Liegenschaft)</th>\n      <th></th>\n    </tr>\n  </thead>\n  <tbody>\n    <tr>\n      <th>Dienstliegenschaften Bundeswehr</th>\n      <td>2.129619e+09</td>\n    </tr>\n    <tr>\n      <th>Bundesforst</th>\n      <td>1.308551e+09</td>\n    </tr>\n    <tr>\n      <th>Gewerbe/sonst. Nutzung</th>\n      <td>9.992754e+07</td>\n    </tr>\n    <tr>\n      <th>Dienstliegenschaften</th>\n      <td>6.652432e+07</td>\n    </tr>\n    <tr>\n      <th>Verwaltungsaufgaben</th>\n      <td>1.499250e+07</td>\n    </tr>\n    <tr>\n      <th>Wohnen</th>\n      <td>3.423557e+06</td>\n    </tr>\n  </tbody>\n</table>\n</div>"
     },
     "execution_count": 8,
     "metadata": {},
     "output_type": "execute_result"
    }
   ],
   "source": [
    "df.groupby(\"Geschäftsbereich (Art der Liegenschaft)\").sum().drop(columns=[\"lfd. Nr.\",\"PLZ\"]).sort_values(by=\"Objektfläche m²\", ascending=False)"
   ],
   "metadata": {
    "collapsed": false,
    "pycharm": {
     "name": "#%%\n"
    }
   }
  },
  {
   "cell_type": "markdown",
   "source": [
    "# Managed property by user; sorted by size"
   ],
   "metadata": {
    "collapsed": false
   }
  },
  {
   "cell_type": "code",
   "execution_count": 9,
   "outputs": [
    {
     "data": {
      "text/plain": "                            Objektfläche m²\nBezeichnung Branche/Nutzer                 \nBMVg.-Unterbringung            2.087621e+09\nUnbekannt                      1.481274e+09\nBundespolizei                  1.383658e+07\nBAM                            1.215331e+07\nFriedrich-Löffler-In           5.337040e+06\n...                                     ...\nHeimat, Ges, Verfass           2.283050e+03\nsonst. Bewil.(BMELV)           2.210240e+03\nBilat. Zusammenarb.            1.480550e+03\nKVdB                           1.413580e+03\nBKGE                           1.070790e+03\n\n[105 rows x 1 columns]",
      "text/html": "<div>\n<style scoped>\n    .dataframe tbody tr th:only-of-type {\n        vertical-align: middle;\n    }\n\n    .dataframe tbody tr th {\n        vertical-align: top;\n    }\n\n    .dataframe thead th {\n        text-align: right;\n    }\n</style>\n<table border=\"1\" class=\"dataframe\">\n  <thead>\n    <tr style=\"text-align: right;\">\n      <th></th>\n      <th>Objektfläche m²</th>\n    </tr>\n    <tr>\n      <th>Bezeichnung Branche/Nutzer</th>\n      <th></th>\n    </tr>\n  </thead>\n  <tbody>\n    <tr>\n      <th>BMVg.-Unterbringung</th>\n      <td>2.087621e+09</td>\n    </tr>\n    <tr>\n      <th>Unbekannt</th>\n      <td>1.481274e+09</td>\n    </tr>\n    <tr>\n      <th>Bundespolizei</th>\n      <td>1.383658e+07</td>\n    </tr>\n    <tr>\n      <th>BAM</th>\n      <td>1.215331e+07</td>\n    </tr>\n    <tr>\n      <th>Friedrich-Löffler-In</th>\n      <td>5.337040e+06</td>\n    </tr>\n    <tr>\n      <th>...</th>\n      <td>...</td>\n    </tr>\n    <tr>\n      <th>Heimat, Ges, Verfass</th>\n      <td>2.283050e+03</td>\n    </tr>\n    <tr>\n      <th>sonst. Bewil.(BMELV)</th>\n      <td>2.210240e+03</td>\n    </tr>\n    <tr>\n      <th>Bilat. Zusammenarb.</th>\n      <td>1.480550e+03</td>\n    </tr>\n    <tr>\n      <th>KVdB</th>\n      <td>1.413580e+03</td>\n    </tr>\n    <tr>\n      <th>BKGE</th>\n      <td>1.070790e+03</td>\n    </tr>\n  </tbody>\n</table>\n<p>105 rows × 1 columns</p>\n</div>"
     },
     "execution_count": 9,
     "metadata": {},
     "output_type": "execute_result"
    }
   ],
   "source": [
    "df.groupby(\"Bezeichnung Branche/Nutzer\").sum().drop(columns=[\"lfd. Nr.\",\"PLZ\"]).sort_values(by=\"Objektfläche m²\", ascending=False)"
   ],
   "metadata": {
    "collapsed": false,
    "pycharm": {
     "name": "#%%\n"
    }
   }
  },
  {
   "cell_type": "markdown",
   "source": [
    "# 10 Biggest properties"
   ],
   "metadata": {
    "collapsed": false
   }
  },
  {
   "cell_type": "code",
   "execution_count": 10,
   "outputs": [
    {
     "data": {
      "text/plain": "        lfd. Nr.    PLZ                            Ort  \\\n136528    136529  29683                     Osterheide   \n163076    163077  39638                     Gardelegen   \n163636    163637   2957                     Weißkeißel   \n163075    163076  39638                     Gardelegen   \n136527    136528  29683                     Osterheide   \n154293    154294  17358                       Torgelow   \n162964    162965  39291                        Möckern   \n99303      99304  16831  Rheinsberg OT Flecken Zechlin   \n136522    136523  29633                        Munster   \n162283    162284   6925                       Annaburg   \n\n                                   Straße    Nr  \\\n136528                               N.N.  None   \n163076                 Salchauer Chaussee     1   \n163636                     Muskauer Forst  None   \n163075                 Salchauer Chaussee     1   \n136527                               N.N.  None   \n154293                Pasewalker Chaussee     7   \n162964                           Bergstr.  None   \n99303                            SCHONORT  None   \n136522  Zw. B 209 u. Pl.-Randstr. Brockhs  None   \n162283                   Annaburger Heide  None   \n\n       Geschäftsbereich (Art der Liegenschaft) Bezeichnung Branche/Nutzer  \\\n136528         Dienstliegenschaften Bundeswehr        BMVg.-Unterbringung   \n163076         Dienstliegenschaften Bundeswehr        BMVg.-Unterbringung   \n163636         Dienstliegenschaften Bundeswehr        BMVg.-Unterbringung   \n163075         Dienstliegenschaften Bundeswehr        BMVg.-Unterbringung   \n136527         Dienstliegenschaften Bundeswehr        BMVg.-Unterbringung   \n154293         Dienstliegenschaften Bundeswehr        BMVg.-Unterbringung   \n162964         Dienstliegenschaften Bundeswehr        BMVg.-Unterbringung   \n99303                              Bundesforst                  Unbekannt   \n136522         Dienstliegenschaften Bundeswehr        BMVg.-Unterbringung   \n162283         Dienstliegenschaften Bundeswehr        BMVg.-Unterbringung   \n\n        Objektfläche m²  \n136528      143505160.0  \n163076      121003889.0  \n163636      113392861.0  \n163075      112234400.0  \n136527      108444570.0  \n154293       93386240.0  \n162964       91173377.0  \n99303        82487930.0  \n136522       75715466.0  \n162283       70751500.0  ",
      "text/html": "<div>\n<style scoped>\n    .dataframe tbody tr th:only-of-type {\n        vertical-align: middle;\n    }\n\n    .dataframe tbody tr th {\n        vertical-align: top;\n    }\n\n    .dataframe thead th {\n        text-align: right;\n    }\n</style>\n<table border=\"1\" class=\"dataframe\">\n  <thead>\n    <tr style=\"text-align: right;\">\n      <th></th>\n      <th>lfd. Nr.</th>\n      <th>PLZ</th>\n      <th>Ort</th>\n      <th>Straße</th>\n      <th>Nr</th>\n      <th>Geschäftsbereich (Art der Liegenschaft)</th>\n      <th>Bezeichnung Branche/Nutzer</th>\n      <th>Objektfläche m²</th>\n    </tr>\n  </thead>\n  <tbody>\n    <tr>\n      <th>136528</th>\n      <td>136529</td>\n      <td>29683</td>\n      <td>Osterheide</td>\n      <td>N.N.</td>\n      <td>None</td>\n      <td>Dienstliegenschaften Bundeswehr</td>\n      <td>BMVg.-Unterbringung</td>\n      <td>143505160.0</td>\n    </tr>\n    <tr>\n      <th>163076</th>\n      <td>163077</td>\n      <td>39638</td>\n      <td>Gardelegen</td>\n      <td>Salchauer Chaussee</td>\n      <td>1</td>\n      <td>Dienstliegenschaften Bundeswehr</td>\n      <td>BMVg.-Unterbringung</td>\n      <td>121003889.0</td>\n    </tr>\n    <tr>\n      <th>163636</th>\n      <td>163637</td>\n      <td>2957</td>\n      <td>Weißkeißel</td>\n      <td>Muskauer Forst</td>\n      <td>None</td>\n      <td>Dienstliegenschaften Bundeswehr</td>\n      <td>BMVg.-Unterbringung</td>\n      <td>113392861.0</td>\n    </tr>\n    <tr>\n      <th>163075</th>\n      <td>163076</td>\n      <td>39638</td>\n      <td>Gardelegen</td>\n      <td>Salchauer Chaussee</td>\n      <td>1</td>\n      <td>Dienstliegenschaften Bundeswehr</td>\n      <td>BMVg.-Unterbringung</td>\n      <td>112234400.0</td>\n    </tr>\n    <tr>\n      <th>136527</th>\n      <td>136528</td>\n      <td>29683</td>\n      <td>Osterheide</td>\n      <td>N.N.</td>\n      <td>None</td>\n      <td>Dienstliegenschaften Bundeswehr</td>\n      <td>BMVg.-Unterbringung</td>\n      <td>108444570.0</td>\n    </tr>\n    <tr>\n      <th>154293</th>\n      <td>154294</td>\n      <td>17358</td>\n      <td>Torgelow</td>\n      <td>Pasewalker Chaussee</td>\n      <td>7</td>\n      <td>Dienstliegenschaften Bundeswehr</td>\n      <td>BMVg.-Unterbringung</td>\n      <td>93386240.0</td>\n    </tr>\n    <tr>\n      <th>162964</th>\n      <td>162965</td>\n      <td>39291</td>\n      <td>Möckern</td>\n      <td>Bergstr.</td>\n      <td>None</td>\n      <td>Dienstliegenschaften Bundeswehr</td>\n      <td>BMVg.-Unterbringung</td>\n      <td>91173377.0</td>\n    </tr>\n    <tr>\n      <th>99303</th>\n      <td>99304</td>\n      <td>16831</td>\n      <td>Rheinsberg OT Flecken Zechlin</td>\n      <td>SCHONORT</td>\n      <td>None</td>\n      <td>Bundesforst</td>\n      <td>Unbekannt</td>\n      <td>82487930.0</td>\n    </tr>\n    <tr>\n      <th>136522</th>\n      <td>136523</td>\n      <td>29633</td>\n      <td>Munster</td>\n      <td>Zw. B 209 u. Pl.-Randstr. Brockhs</td>\n      <td>None</td>\n      <td>Dienstliegenschaften Bundeswehr</td>\n      <td>BMVg.-Unterbringung</td>\n      <td>75715466.0</td>\n    </tr>\n    <tr>\n      <th>162283</th>\n      <td>162284</td>\n      <td>6925</td>\n      <td>Annaburg</td>\n      <td>Annaburger Heide</td>\n      <td>None</td>\n      <td>Dienstliegenschaften Bundeswehr</td>\n      <td>BMVg.-Unterbringung</td>\n      <td>70751500.0</td>\n    </tr>\n  </tbody>\n</table>\n</div>"
     },
     "execution_count": 10,
     "metadata": {},
     "output_type": "execute_result"
    }
   ],
   "source": [
    "df.sort_values(by=\"Objektfläche m²\",ascending=False).head(10)"
   ],
   "metadata": {
    "collapsed": false,
    "pycharm": {
     "name": "#%%\n"
    }
   }
  },
  {
   "cell_type": "markdown",
   "source": [
    "# 10 Smallest properties (with a size bigger than 0)"
   ],
   "metadata": {
    "collapsed": false
   }
  },
  {
   "cell_type": "code",
   "execution_count": 11,
   "outputs": [
    {
     "data": {
      "text/plain": "       lfd. Nr.    PLZ            Ort                                Straße  \\\n22842     22843  26441          Jever                Auf der Dreesche  u.a.   \n81460     81461  14167         Berlin                       Jänickestraße 1   \n23162     23163  26441          Jever                Auf der Dreesche  u.a.   \n48362     48363   6120  Halle (Saale)                Vogelsang/Am Heiderand   \n48363     48364   6120  Halle (Saale)                Vogelsang/Am Heiderand   \n48364     48365   6120  Halle (Saale)                Vogelsang/Am Heiderand   \n48365     48366   6120  Halle (Saale)                Vogelsang/Am Heiderand   \n48366     48367   6120  Halle (Saale)                Vogelsang/Am Heiderand   \n23279     23280  81677        München               Richard-Strauss-Str. 28   \n23280     23281  81677        München  Steinhauserstr./Richard-Strauss-Str.   \n\n         Nr Geschäftsbereich (Art der Liegenschaft)  \\\n22842  None                                  Wohnen   \n81460  None                                  Wohnen   \n23162  None                                  Wohnen   \n48362  None                                  Wohnen   \n48363  None                                  Wohnen   \n48364  None                                  Wohnen   \n48365  None                                  Wohnen   \n48366  None                                  Wohnen   \n23279  None                                  Wohnen   \n23280  None                                  Wohnen   \n\n      Bezeichnung Branche/Nutzer  Objektfläche m²  \n22842                  Unbekannt            0.001  \n81460                  Unbekannt            0.001  \n23162                  Unbekannt            0.001  \n48362                  Unbekannt            0.010  \n48363                  Unbekannt            0.010  \n48364                  Unbekannt            0.010  \n48365                  Unbekannt            0.010  \n48366                  Unbekannt            0.010  \n23279                  Unbekannt            0.010  \n23280                  Unbekannt            0.010  ",
      "text/html": "<div>\n<style scoped>\n    .dataframe tbody tr th:only-of-type {\n        vertical-align: middle;\n    }\n\n    .dataframe tbody tr th {\n        vertical-align: top;\n    }\n\n    .dataframe thead th {\n        text-align: right;\n    }\n</style>\n<table border=\"1\" class=\"dataframe\">\n  <thead>\n    <tr style=\"text-align: right;\">\n      <th></th>\n      <th>lfd. Nr.</th>\n      <th>PLZ</th>\n      <th>Ort</th>\n      <th>Straße</th>\n      <th>Nr</th>\n      <th>Geschäftsbereich (Art der Liegenschaft)</th>\n      <th>Bezeichnung Branche/Nutzer</th>\n      <th>Objektfläche m²</th>\n    </tr>\n  </thead>\n  <tbody>\n    <tr>\n      <th>22842</th>\n      <td>22843</td>\n      <td>26441</td>\n      <td>Jever</td>\n      <td>Auf der Dreesche  u.a.</td>\n      <td>None</td>\n      <td>Wohnen</td>\n      <td>Unbekannt</td>\n      <td>0.001</td>\n    </tr>\n    <tr>\n      <th>81460</th>\n      <td>81461</td>\n      <td>14167</td>\n      <td>Berlin</td>\n      <td>Jänickestraße 1</td>\n      <td>None</td>\n      <td>Wohnen</td>\n      <td>Unbekannt</td>\n      <td>0.001</td>\n    </tr>\n    <tr>\n      <th>23162</th>\n      <td>23163</td>\n      <td>26441</td>\n      <td>Jever</td>\n      <td>Auf der Dreesche  u.a.</td>\n      <td>None</td>\n      <td>Wohnen</td>\n      <td>Unbekannt</td>\n      <td>0.001</td>\n    </tr>\n    <tr>\n      <th>48362</th>\n      <td>48363</td>\n      <td>6120</td>\n      <td>Halle (Saale)</td>\n      <td>Vogelsang/Am Heiderand</td>\n      <td>None</td>\n      <td>Wohnen</td>\n      <td>Unbekannt</td>\n      <td>0.010</td>\n    </tr>\n    <tr>\n      <th>48363</th>\n      <td>48364</td>\n      <td>6120</td>\n      <td>Halle (Saale)</td>\n      <td>Vogelsang/Am Heiderand</td>\n      <td>None</td>\n      <td>Wohnen</td>\n      <td>Unbekannt</td>\n      <td>0.010</td>\n    </tr>\n    <tr>\n      <th>48364</th>\n      <td>48365</td>\n      <td>6120</td>\n      <td>Halle (Saale)</td>\n      <td>Vogelsang/Am Heiderand</td>\n      <td>None</td>\n      <td>Wohnen</td>\n      <td>Unbekannt</td>\n      <td>0.010</td>\n    </tr>\n    <tr>\n      <th>48365</th>\n      <td>48366</td>\n      <td>6120</td>\n      <td>Halle (Saale)</td>\n      <td>Vogelsang/Am Heiderand</td>\n      <td>None</td>\n      <td>Wohnen</td>\n      <td>Unbekannt</td>\n      <td>0.010</td>\n    </tr>\n    <tr>\n      <th>48366</th>\n      <td>48367</td>\n      <td>6120</td>\n      <td>Halle (Saale)</td>\n      <td>Vogelsang/Am Heiderand</td>\n      <td>None</td>\n      <td>Wohnen</td>\n      <td>Unbekannt</td>\n      <td>0.010</td>\n    </tr>\n    <tr>\n      <th>23279</th>\n      <td>23280</td>\n      <td>81677</td>\n      <td>München</td>\n      <td>Richard-Strauss-Str. 28</td>\n      <td>None</td>\n      <td>Wohnen</td>\n      <td>Unbekannt</td>\n      <td>0.010</td>\n    </tr>\n    <tr>\n      <th>23280</th>\n      <td>23281</td>\n      <td>81677</td>\n      <td>München</td>\n      <td>Steinhauserstr./Richard-Strauss-Str.</td>\n      <td>None</td>\n      <td>Wohnen</td>\n      <td>Unbekannt</td>\n      <td>0.010</td>\n    </tr>\n  </tbody>\n</table>\n</div>"
     },
     "execution_count": 11,
     "metadata": {},
     "output_type": "execute_result"
    }
   ],
   "source": [
    "df[df[\"Objektfläche m²\"]>0].sort_values(by=\"Objektfläche m²\",ascending=True).head(10)\n",
    "### Weird results"
   ],
   "metadata": {
    "collapsed": false,
    "pycharm": {
     "name": "#%%\n"
    }
   }
  },
  {
   "cell_type": "markdown",
   "source": [
    "# Distribution of the property size"
   ],
   "metadata": {
    "collapsed": false
   }
  },
  {
   "cell_type": "code",
   "execution_count": 12,
   "outputs": [
    {
     "data": {
      "text/plain": "count    1.801880e+05\nmean     2.010699e+04\nstd      8.962014e+05\nmin      0.000000e+00\n25%      1.040000e+01\n50%      6.530000e+01\n75%      2.500000e+02\nmax      1.435052e+08\nName: Objektfläche m², dtype: float64"
     },
     "execution_count": 12,
     "metadata": {},
     "output_type": "execute_result"
    }
   ],
   "source": [
    "df[\"Objektfläche m²\"].describe()"
   ],
   "metadata": {
    "collapsed": false,
    "pycharm": {
     "name": "#%%\n"
    }
   }
  },
  {
   "cell_type": "code",
   "execution_count": 13,
   "outputs": [
    {
     "data": {
      "text/plain": "<AxesSubplot:>"
     },
     "execution_count": 13,
     "metadata": {},
     "output_type": "execute_result"
    },
    {
     "data": {
      "text/plain": "<Figure size 432x288 with 1 Axes>",
      "image/png": "[encoded data removed]"
     },
     "metadata": {
      "needs_background": "light"
     },
     "output_type": "display_data"
    }
   ],
   "source": [
    "df[\"Objektfläche m²\"].hist(bins=50,log=True)"
   ],
   "metadata": {
    "collapsed": false,
    "pycharm": {
     "name": "#%%\n"
    }
   }
  },
  {
   "cell_type": "markdown",
   "source": [
    "## Soo many small ones... let's zoom in"
   ],
   "metadata": {
    "collapsed": false
   }
  },
  {
   "cell_type": "code",
   "execution_count": 14,
   "outputs": [
    {
     "data": {
      "text/plain": "<AxesSubplot:>"
     },
     "execution_count": 14,
     "metadata": {},
     "output_type": "execute_result"
    },
    {
     "data": {
      "text/plain": "<Figure size 432x288 with 1 Axes>",
      "image/png": "[encoded data removed]"
     },
     "metadata": {
      "needs_background": "light"
     },
     "output_type": "display_data"
    }
   ],
   "source": [
    "df[df[\"Objektfläche m²\"]<0.2e8][\"Objektfläche m²\"].hist(bins=50,log=True)"
   ],
   "metadata": {
    "collapsed": false,
    "pycharm": {
     "name": "#%%\n"
    }
   }
  },
  {
   "cell_type": "markdown",
   "source": [
    "### Lots of small properties"
   ],
   "metadata": {
    "collapsed": false
   }
  },
  {
   "cell_type": "code",
   "execution_count": 15,
   "outputs": [
    {
     "data": {
      "text/plain": "<AxesSubplot:>"
     },
     "execution_count": 15,
     "metadata": {},
     "output_type": "execute_result"
    },
    {
     "data": {
      "text/plain": "<Figure size 432x288 with 1 Axes>",
      "image/png": "[encoded data removed]"
     },
     "metadata": {
      "needs_background": "light"
     },
     "output_type": "display_data"
    }
   ],
   "source": [
    "df[df[\"Objektfläche m²\"]<100][\"Objektfläche m²\"].hist(bins=50,log=True)"
   ],
   "metadata": {
    "collapsed": false,
    "pycharm": {
     "name": "#%%\n"
    }
   }
  },
  {
   "cell_type": "code",
   "execution_count": 15,
   "outputs": [],
   "source": [
    "# I need coffee"
   ],
   "metadata": {
    "collapsed": false,
    "pycharm": {
     "name": "#%%\n"
    }
   }
  },
  {
   "cell_type": "markdown",
   "source": [
    "### Stuff on Sylt"
   ],
   "metadata": {
    "collapsed": false
   }
  },
  {
   "cell_type": "code",
   "execution_count": 18,
   "outputs": [
    {
     "data": {
      "text/plain": "        lfd. Nr.    PLZ            Ort          Straße    Nr  \\\n282          283  25980  Rantum (Sylt)            None  None   \n296          297  25980       Sylt-Ost         Sjipwai    26   \n309          310  25980  Rantum (Sylt)     Am Torbogen     5   \n718          719  25997  Hörnum (Sylt)  An der Düne 50  None   \n833          834  25980  Rantum (Sylt)            None  None   \n...          ...    ...            ...             ...   ...   \n97826      97827  25980  Rantum (Sylt)            None  None   \n98053      98054  25980       Sylt-Ost            None  None   \n118300    118301  25997  Hörnum (Sylt)   Rantumer Str.  None   \n146302    146303  25997  Hörnum (Sylt)   Rantumer Str.  None   \n173098    173099  25997  Hörnum (Sylt)    Strandstraße    15   \n\n       Geschäftsbereich (Art der Liegenschaft) Bezeichnung Branche/Nutzer  \\\n282                     Gewerbe/sonst. Nutzung                  Unbekannt   \n296                     Gewerbe/sonst. Nutzung                  Unbekannt   \n309                     Gewerbe/sonst. Nutzung                  Unbekannt   \n718                     Gewerbe/sonst. Nutzung                  Unbekannt   \n833                     Gewerbe/sonst. Nutzung                  Unbekannt   \n...                                        ...                        ...   \n97826                   Gewerbe/sonst. Nutzung                  Unbekannt   \n98053                   Gewerbe/sonst. Nutzung                  Unbekannt   \n118300         Dienstliegenschaften Bundeswehr                  Unbekannt   \n146302         Dienstliegenschaften Bundeswehr        BMVg.-Unterbringung   \n173098                                  Wohnen                  Unbekannt   \n\n        Objektfläche m²  \n282               37.70  \n296              165.13  \n309             2789.10  \n718              171.09  \n833              735.00  \n...                 ...  \n97826              0.00  \n98053            920.00  \n118300             0.00  \n146302           940.00  \n173098            72.20  \n\n[103 rows x 8 columns]",
      "text/html": "<div>\n<style scoped>\n    .dataframe tbody tr th:only-of-type {\n        vertical-align: middle;\n    }\n\n    .dataframe tbody tr th {\n        vertical-align: top;\n    }\n\n    .dataframe thead th {\n        text-align: right;\n    }\n</style>\n<table border=\"1\" class=\"dataframe\">\n  <thead>\n    <tr style=\"text-align: right;\">\n      <th></th>\n      <th>lfd. Nr.</th>\n      <th>PLZ</th>\n      <th>Ort</th>\n      <th>Straße</th>\n      <th>Nr</th>\n      <th>Geschäftsbereich (Art der Liegenschaft)</th>\n      <th>Bezeichnung Branche/Nutzer</th>\n      <th>Objektfläche m²</th>\n    </tr>\n  </thead>\n  <tbody>\n    <tr>\n      <th>282</th>\n      <td>283</td>\n      <td>25980</td>\n      <td>Rantum (Sylt)</td>\n      <td>None</td>\n      <td>None</td>\n      <td>Gewerbe/sonst. Nutzung</td>\n      <td>Unbekannt</td>\n      <td>37.70</td>\n    </tr>\n    <tr>\n      <th>296</th>\n      <td>297</td>\n      <td>25980</td>\n      <td>Sylt-Ost</td>\n      <td>Sjipwai</td>\n      <td>26</td>\n      <td>Gewerbe/sonst. Nutzung</td>\n      <td>Unbekannt</td>\n      <td>165.13</td>\n    </tr>\n    <tr>\n      <th>309</th>\n      <td>310</td>\n      <td>25980</td>\n      <td>Rantum (Sylt)</td>\n      <td>Am Torbogen</td>\n      <td>5</td>\n      <td>Gewerbe/sonst. Nutzung</td>\n      <td>Unbekannt</td>\n      <td>2789.10</td>\n    </tr>\n    <tr>\n      <th>718</th>\n      <td>719</td>\n      <td>25997</td>\n      <td>Hörnum (Sylt)</td>\n      <td>An der Düne 50</td>\n      <td>None</td>\n      <td>Gewerbe/sonst. Nutzung</td>\n      <td>Unbekannt</td>\n      <td>171.09</td>\n    </tr>\n    <tr>\n      <th>833</th>\n      <td>834</td>\n      <td>25980</td>\n      <td>Rantum (Sylt)</td>\n      <td>None</td>\n      <td>None</td>\n      <td>Gewerbe/sonst. Nutzung</td>\n      <td>Unbekannt</td>\n      <td>735.00</td>\n    </tr>\n    <tr>\n      <th>...</th>\n      <td>...</td>\n      <td>...</td>\n      <td>...</td>\n      <td>...</td>\n      <td>...</td>\n      <td>...</td>\n      <td>...</td>\n      <td>...</td>\n    </tr>\n    <tr>\n      <th>97826</th>\n      <td>97827</td>\n      <td>25980</td>\n      <td>Rantum (Sylt)</td>\n      <td>None</td>\n      <td>None</td>\n      <td>Gewerbe/sonst. Nutzung</td>\n      <td>Unbekannt</td>\n      <td>0.00</td>\n    </tr>\n    <tr>\n      <th>98053</th>\n      <td>98054</td>\n      <td>25980</td>\n      <td>Sylt-Ost</td>\n      <td>None</td>\n      <td>None</td>\n      <td>Gewerbe/sonst. Nutzung</td>\n      <td>Unbekannt</td>\n      <td>920.00</td>\n    </tr>\n    <tr>\n      <th>118300</th>\n      <td>118301</td>\n      <td>25997</td>\n      <td>Hörnum (Sylt)</td>\n      <td>Rantumer Str.</td>\n      <td>None</td>\n      <td>Dienstliegenschaften Bundeswehr</td>\n      <td>Unbekannt</td>\n      <td>0.00</td>\n    </tr>\n    <tr>\n      <th>146302</th>\n      <td>146303</td>\n      <td>25997</td>\n      <td>Hörnum (Sylt)</td>\n      <td>Rantumer Str.</td>\n      <td>None</td>\n      <td>Dienstliegenschaften Bundeswehr</td>\n      <td>BMVg.-Unterbringung</td>\n      <td>940.00</td>\n    </tr>\n    <tr>\n      <th>173098</th>\n      <td>173099</td>\n      <td>25997</td>\n      <td>Hörnum (Sylt)</td>\n      <td>Strandstraße</td>\n      <td>15</td>\n      <td>Wohnen</td>\n      <td>Unbekannt</td>\n      <td>72.20</td>\n    </tr>\n  </tbody>\n</table>\n<p>103 rows × 8 columns</p>\n</div>"
     },
     "execution_count": 18,
     "metadata": {},
     "output_type": "execute_result"
    }
   ],
   "source": [
    "df[df[\"Ort\"].fillna(\"\").str.contains(\"Sylt\")]"
   ],
   "metadata": {
    "collapsed": false,
    "pycharm": {
     "name": "#%%\n"
    }
   }
  },
  {
   "cell_type": "code",
   "execution_count": null,
   "outputs": [],
   "source": [],
   "metadata": {
    "collapsed": false,
    "pycharm": {
     "name": "#%%\n"
    }
   }
  }
 ],
 "metadata": {
  "kernelspec": {
   "display_name": "Python 3",
   "language": "python",
   "name": "python3"
  },
  "language_info": {
   "codemirror_mode": {
    "name": "ipython",
    "version": 2
   },
   "file_extension": ".py",
   "mimetype": "text/x-python",
   "name": "python",
   "nbconvert_exporter": "python",
   "pygments_lexer": "ipython2",
   "version": "2.7.6"
  }
 },
 "nbformat": 4,
 "nbformat_minor": 0
}