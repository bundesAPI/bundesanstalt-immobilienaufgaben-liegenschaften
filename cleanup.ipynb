{
 "cells": [
  {
   "cell_type": "code",
   "execution_count": 1,
   "metadata": {
    "collapsed": true
   },
   "outputs": [],
   "source": [
    "import pandas as pd"
   ]
  },
  {
   "cell_type": "code",
   "execution_count": 2,
   "outputs": [],
   "source": [
    "data_types_broken ={\n",
    "    \"lfd. Nr.\" : str,\n",
    "    \"PLZ\" : str\t,\n",
    "    \"Ort\": str,\n",
    "    \"Straße\" : str,\n",
    "    \"Nr\" : str,\n",
    "    \"Geschäftsbereich (Art der Liegenschaft)\" : \"category\",\n",
    "    \"Bezeichnung Branche/Nutzer\" : \"category\",\n",
    "    \"Objektfläche m²\": str\n",
    "}"
   ],
   "metadata": {
    "collapsed": false,
    "pycharm": {
     "name": "#%%\n"
    }
   }
  },
  {
   "cell_type": "code",
   "execution_count": 3,
   "outputs": [],
   "source": [
    "column_names = [\"lfd. Nr.\",\"PLZ\",\"Ort\",\"Straße\",\"Nr\",\"Geschäftsbereich (Art der Liegenschaft)\",\"Bezeichnung Branche/Nutzer\",\"Objektfläche m²\"]"
   ],
   "metadata": {
    "collapsed": false,
    "pycharm": {
     "name": "#%%\n"
    }
   }
  },
  {
   "cell_type": "code",
   "execution_count": 4,
   "outputs": [
    {
     "name": "stdout",
     "output_type": "stream",
     "text": [
      "Reading sheet 0\n"
     ]
    },
    {
     "name": "stderr",
     "output_type": "stream",
     "text": [
      "/opt/homebrew/Caskroom/miniforge/base/envs/py38/lib/python3.8/site-packages/openpyxl/worksheet/header_footer.py:48: UserWarning: Cannot parse header or footer so it will be ignored\n",
      "  warn(\"\"\"Cannot parse header or footer so it will be ignored\"\"\")\n"
     ]
    }
   ],
   "source": [
    "df = pd.read_excel(\"Anlage.xlsx\",verbose=True,dtype=str)"
   ],
   "metadata": {
    "collapsed": false,
    "pycharm": {
     "name": "#%%\n"
    }
   }
  },
  {
   "cell_type": "code",
   "execution_count": 5,
   "outputs": [],
   "source": [
    "assert df.shape[0]==180188, \"Rows got dropped!\"\n",
    "assert df.shape[1]==8, \"Columns got dropped!\""
   ],
   "metadata": {
    "collapsed": false,
    "pycharm": {
     "name": "#%%\n"
    }
   }
  },
  {
   "cell_type": "code",
   "execution_count": 6,
   "outputs": [
    {
     "data": {
      "text/plain": "  lfd. Nr.    PLZ             Ort  \\\n0        1  24799        Owschlag   \n1        2  59494           Soest   \n2        3  81549         München   \n3        4  81549         München   \n4        5  81549         München   \n5        6  52074   Aachen, Stadt   \n6        7  81549         München   \n7        8  82487    Oberammergau   \n8        9  82487    Oberammergau   \n9       10  56068  Koblenz, Stadt   \n\n                                              Straße        Nr  \\\n0                                                NaN       NaN   \n1                                                NaN       NaN   \n2  Cincinnati/Wikinger/Leif/Penn/Lincoln/Minnewit...       NaN   \n3                                   Minnewitstr.  12  (350 A8)   \n4                                  Cincinnatistr. 59  Wgh. 3-6   \n5                                      Finkenhang 31       NaN   \n6                                         Leifstr. 1  (311 A5)   \n7                                     Aufackerstraße     1/3/5   \n8                                     Aufackerstraße       6/8   \n9                  Hozo 84/86,88/90, St. Josef 27-31       NaN   \n\n  Geschäftsbereich (Art der Liegenschaft) Bezeichnung Branche/Nutzer  \\\n0                             Bundesforst                        NaN   \n1                             Bundesforst                        NaN   \n2                                  Wohnen                        NaN   \n3                                  Wohnen                        NaN   \n4                                  Wohnen                        NaN   \n5                                  Wohnen                        NaN   \n6                                  Wohnen                        NaN   \n7                                  Wohnen                        NaN   \n8                                  Wohnen                        NaN   \n9                                  Wohnen                        NaN   \n\n  Objektfläche m²  \n0            1922  \n1           45000  \n2               0  \n3              72  \n4           77.45  \n5              85  \n6           112.4  \n7               0  \n8               0  \n9              12  ",
      "text/html": "<div>\n<style scoped>\n    .dataframe tbody tr th:only-of-type {\n        vertical-align: middle;\n    }\n\n    .dataframe tbody tr th {\n        vertical-align: top;\n    }\n\n    .dataframe thead th {\n        text-align: right;\n    }\n</style>\n<table border=\"1\" class=\"dataframe\">\n  <thead>\n    <tr style=\"text-align: right;\">\n      <th></th>\n      <th>lfd. Nr.</th>\n      <th>PLZ</th>\n      <th>Ort</th>\n      <th>Straße</th>\n      <th>Nr</th>\n      <th>Geschäftsbereich (Art der Liegenschaft)</th>\n      <th>Bezeichnung Branche/Nutzer</th>\n      <th>Objektfläche m²</th>\n    </tr>\n  </thead>\n  <tbody>\n    <tr>\n      <th>0</th>\n      <td>1</td>\n      <td>24799</td>\n      <td>Owschlag</td>\n      <td>NaN</td>\n      <td>NaN</td>\n      <td>Bundesforst</td>\n      <td>NaN</td>\n      <td>1922</td>\n    </tr>\n    <tr>\n      <th>1</th>\n      <td>2</td>\n      <td>59494</td>\n      <td>Soest</td>\n      <td>NaN</td>\n      <td>NaN</td>\n      <td>Bundesforst</td>\n      <td>NaN</td>\n      <td>45000</td>\n    </tr>\n    <tr>\n      <th>2</th>\n      <td>3</td>\n      <td>81549</td>\n      <td>München</td>\n      <td>Cincinnati/Wikinger/Leif/Penn/Lincoln/Minnewit...</td>\n      <td>NaN</td>\n      <td>Wohnen</td>\n      <td>NaN</td>\n      <td>0</td>\n    </tr>\n    <tr>\n      <th>3</th>\n      <td>4</td>\n      <td>81549</td>\n      <td>München</td>\n      <td>Minnewitstr.  12</td>\n      <td>(350 A8)</td>\n      <td>Wohnen</td>\n      <td>NaN</td>\n      <td>72</td>\n    </tr>\n    <tr>\n      <th>4</th>\n      <td>5</td>\n      <td>81549</td>\n      <td>München</td>\n      <td>Cincinnatistr. 59</td>\n      <td>Wgh. 3-6</td>\n      <td>Wohnen</td>\n      <td>NaN</td>\n      <td>77.45</td>\n    </tr>\n    <tr>\n      <th>5</th>\n      <td>6</td>\n      <td>52074</td>\n      <td>Aachen, Stadt</td>\n      <td>Finkenhang 31</td>\n      <td>NaN</td>\n      <td>Wohnen</td>\n      <td>NaN</td>\n      <td>85</td>\n    </tr>\n    <tr>\n      <th>6</th>\n      <td>7</td>\n      <td>81549</td>\n      <td>München</td>\n      <td>Leifstr. 1</td>\n      <td>(311 A5)</td>\n      <td>Wohnen</td>\n      <td>NaN</td>\n      <td>112.4</td>\n    </tr>\n    <tr>\n      <th>7</th>\n      <td>8</td>\n      <td>82487</td>\n      <td>Oberammergau</td>\n      <td>Aufackerstraße</td>\n      <td>1/3/5</td>\n      <td>Wohnen</td>\n      <td>NaN</td>\n      <td>0</td>\n    </tr>\n    <tr>\n      <th>8</th>\n      <td>9</td>\n      <td>82487</td>\n      <td>Oberammergau</td>\n      <td>Aufackerstraße</td>\n      <td>6/8</td>\n      <td>Wohnen</td>\n      <td>NaN</td>\n      <td>0</td>\n    </tr>\n    <tr>\n      <th>9</th>\n      <td>10</td>\n      <td>56068</td>\n      <td>Koblenz, Stadt</td>\n      <td>Hozo 84/86,88/90, St. Josef 27-31</td>\n      <td>NaN</td>\n      <td>Wohnen</td>\n      <td>NaN</td>\n      <td>12</td>\n    </tr>\n  </tbody>\n</table>\n</div>"
     },
     "execution_count": 6,
     "metadata": {},
     "output_type": "execute_result"
    }
   ],
   "source": [
    "df.head(10)"
   ],
   "metadata": {
    "collapsed": false,
    "pycharm": {
     "name": "#%%\n"
    }
   }
  },
  {
   "cell_type": "markdown",
   "source": [
    "## 1. Strip whitespaces"
   ],
   "metadata": {
    "collapsed": false
   }
  },
  {
   "cell_type": "code",
   "execution_count": 7,
   "outputs": [],
   "source": [
    "# https://stackoverflow.com/questions/40950310/strip-trim-all-strings-of-a-dataframe\n",
    "df_obj = df.select_dtypes(['object'])\n",
    "df[df_obj.columns] = df_obj.apply(lambda x: x.str.strip())"
   ],
   "metadata": {
    "collapsed": false,
    "pycharm": {
     "name": "#%%\n"
    }
   }
  },
  {
   "cell_type": "code",
   "execution_count": 8,
   "outputs": [
    {
     "data": {
      "text/plain": "       lfd. Nr.    PLZ                Ort  \\\n0             1  24799           Owschlag   \n1             2  59494              Soest   \n2             3  81549            München   \n3             4  81549            München   \n4             5  81549            München   \n...         ...    ...                ...   \n180183   180184  98527        Suhl, Stadt   \n180184   180185  16278  Angermünde, Stadt   \n180185   180186  15234   Frankfurt (Oder)   \n180186   180187  45219              Essen   \n180187   180188  08525             Plauen   \n\n                                                   Straße        Nr  \\\n0                                                     NaN       NaN   \n1                                                     NaN       NaN   \n2       Cincinnati/Wikinger/Leif/Penn/Lincoln/Minnewit...       NaN   \n3                                        Minnewitstr.  12  (350 A8)   \n4                                       Cincinnatistr. 59  Wgh. 3-6   \n...                                                   ...       ...   \n180183                             Friedrich-König-Straße       NaN   \n180184                          Rudolf-Breitscheid-Straße       NaN   \n180185                                      Traubenweg 18       NaN   \n180186                                     Ringstraße 199       NaN   \n180187                              Alte Jößnitzer Straße        30   \n\n       Geschäftsbereich (Art der Liegenschaft) Bezeichnung Branche/Nutzer  \\\n0                                  Bundesforst                        NaN   \n1                                  Bundesforst                        NaN   \n2                                       Wohnen                        NaN   \n3                                       Wohnen                        NaN   \n4                                       Wohnen                        NaN   \n...                                        ...                        ...   \n180183                  Gewerbe/sonst. Nutzung                        NaN   \n180184                  Gewerbe/sonst. Nutzung                        NaN   \n180185                  Gewerbe/sonst. Nutzung                        NaN   \n180186                  Gewerbe/sonst. Nutzung                        NaN   \n180187                  Gewerbe/sonst. Nutzung                        NaN   \n\n       Objektfläche m²  \n0                 1922  \n1                45000  \n2                    0  \n3                   72  \n4                77.45  \n...                ...  \n180183             986  \n180184            2212  \n180185            2716  \n180186            3892  \n180187        16097.99  \n\n[180188 rows x 8 columns]",
      "text/html": "<div>\n<style scoped>\n    .dataframe tbody tr th:only-of-type {\n        vertical-align: middle;\n    }\n\n    .dataframe tbody tr th {\n        vertical-align: top;\n    }\n\n    .dataframe thead th {\n        text-align: right;\n    }\n</style>\n<table border=\"1\" class=\"dataframe\">\n  <thead>\n    <tr style=\"text-align: right;\">\n      <th></th>\n      <th>lfd. Nr.</th>\n      <th>PLZ</th>\n      <th>Ort</th>\n      <th>Straße</th>\n      <th>Nr</th>\n      <th>Geschäftsbereich (Art der Liegenschaft)</th>\n      <th>Bezeichnung Branche/Nutzer</th>\n      <th>Objektfläche m²</th>\n    </tr>\n  </thead>\n  <tbody>\n    <tr>\n      <th>0</th>\n      <td>1</td>\n      <td>24799</td>\n      <td>Owschlag</td>\n      <td>NaN</td>\n      <td>NaN</td>\n      <td>Bundesforst</td>\n      <td>NaN</td>\n      <td>1922</td>\n    </tr>\n    <tr>\n      <th>1</th>\n      <td>2</td>\n      <td>59494</td>\n      <td>Soest</td>\n      <td>NaN</td>\n      <td>NaN</td>\n      <td>Bundesforst</td>\n      <td>NaN</td>\n      <td>45000</td>\n    </tr>\n    <tr>\n      <th>2</th>\n      <td>3</td>\n      <td>81549</td>\n      <td>München</td>\n      <td>Cincinnati/Wikinger/Leif/Penn/Lincoln/Minnewit...</td>\n      <td>NaN</td>\n      <td>Wohnen</td>\n      <td>NaN</td>\n      <td>0</td>\n    </tr>\n    <tr>\n      <th>3</th>\n      <td>4</td>\n      <td>81549</td>\n      <td>München</td>\n      <td>Minnewitstr.  12</td>\n      <td>(350 A8)</td>\n      <td>Wohnen</td>\n      <td>NaN</td>\n      <td>72</td>\n    </tr>\n    <tr>\n      <th>4</th>\n      <td>5</td>\n      <td>81549</td>\n      <td>München</td>\n      <td>Cincinnatistr. 59</td>\n      <td>Wgh. 3-6</td>\n      <td>Wohnen</td>\n      <td>NaN</td>\n      <td>77.45</td>\n    </tr>\n    <tr>\n      <th>...</th>\n      <td>...</td>\n      <td>...</td>\n      <td>...</td>\n      <td>...</td>\n      <td>...</td>\n      <td>...</td>\n      <td>...</td>\n      <td>...</td>\n    </tr>\n    <tr>\n      <th>180183</th>\n      <td>180184</td>\n      <td>98527</td>\n      <td>Suhl, Stadt</td>\n      <td>Friedrich-König-Straße</td>\n      <td>NaN</td>\n      <td>Gewerbe/sonst. Nutzung</td>\n      <td>NaN</td>\n      <td>986</td>\n    </tr>\n    <tr>\n      <th>180184</th>\n      <td>180185</td>\n      <td>16278</td>\n      <td>Angermünde, Stadt</td>\n      <td>Rudolf-Breitscheid-Straße</td>\n      <td>NaN</td>\n      <td>Gewerbe/sonst. Nutzung</td>\n      <td>NaN</td>\n      <td>2212</td>\n    </tr>\n    <tr>\n      <th>180185</th>\n      <td>180186</td>\n      <td>15234</td>\n      <td>Frankfurt (Oder)</td>\n      <td>Traubenweg 18</td>\n      <td>NaN</td>\n      <td>Gewerbe/sonst. Nutzung</td>\n      <td>NaN</td>\n      <td>2716</td>\n    </tr>\n    <tr>\n      <th>180186</th>\n      <td>180187</td>\n      <td>45219</td>\n      <td>Essen</td>\n      <td>Ringstraße 199</td>\n      <td>NaN</td>\n      <td>Gewerbe/sonst. Nutzung</td>\n      <td>NaN</td>\n      <td>3892</td>\n    </tr>\n    <tr>\n      <th>180187</th>\n      <td>180188</td>\n      <td>08525</td>\n      <td>Plauen</td>\n      <td>Alte Jößnitzer Straße</td>\n      <td>30</td>\n      <td>Gewerbe/sonst. Nutzung</td>\n      <td>NaN</td>\n      <td>16097.99</td>\n    </tr>\n  </tbody>\n</table>\n<p>180188 rows × 8 columns</p>\n</div>"
     },
     "execution_count": 8,
     "metadata": {},
     "output_type": "execute_result"
    }
   ],
   "source": [
    "df"
   ],
   "metadata": {
    "collapsed": false,
    "pycharm": {
     "name": "#%%\n"
    }
   }
  },
  {
   "cell_type": "markdown",
   "source": [
    "## 2. Check for broken postal codes"
   ],
   "metadata": {
    "collapsed": false
   }
  },
  {
   "cell_type": "code",
   "execution_count": 9,
   "outputs": [
    {
     "data": {
      "text/plain": "Empty DataFrame\nColumns: [lfd. Nr., PLZ, Ort, Straße, Nr, Geschäftsbereich (Art der Liegenschaft), Bezeichnung Branche/Nutzer, Objektfläche m²]\nIndex: []",
      "text/html": "<div>\n<style scoped>\n    .dataframe tbody tr th:only-of-type {\n        vertical-align: middle;\n    }\n\n    .dataframe tbody tr th {\n        vertical-align: top;\n    }\n\n    .dataframe thead th {\n        text-align: right;\n    }\n</style>\n<table border=\"1\" class=\"dataframe\">\n  <thead>\n    <tr style=\"text-align: right;\">\n      <th></th>\n      <th>lfd. Nr.</th>\n      <th>PLZ</th>\n      <th>Ort</th>\n      <th>Straße</th>\n      <th>Nr</th>\n      <th>Geschäftsbereich (Art der Liegenschaft)</th>\n      <th>Bezeichnung Branche/Nutzer</th>\n      <th>Objektfläche m²</th>\n    </tr>\n  </thead>\n  <tbody>\n  </tbody>\n</table>\n</div>"
     },
     "execution_count": 9,
     "metadata": {},
     "output_type": "execute_result"
    }
   ],
   "source": [
    "df_broken_postalcode = df[df[\"PLZ\"].fillna(-1).str.strip().str.len() > 5]\n",
    "df_broken_postalcode"
   ],
   "metadata": {
    "collapsed": false,
    "pycharm": {
     "name": "#%%\n"
    }
   }
  },
  {
   "cell_type": "code",
   "execution_count": 10,
   "outputs": [],
   "source": [
    "# Nothing broken when importing directly from the xls file"
   ],
   "metadata": {
    "collapsed": false,
    "pycharm": {
     "name": "#%%\n"
    }
   }
  },
  {
   "cell_type": "markdown",
   "source": [
    "### 3. Check ldf Nr"
   ],
   "metadata": {
    "collapsed": false
   }
  },
  {
   "cell_type": "code",
   "execution_count": 11,
   "outputs": [
    {
     "data": {
      "text/plain": "Empty DataFrame\nColumns: [lfd. Nr., PLZ, Ort, Straße, Nr, Geschäftsbereich (Art der Liegenschaft), Bezeichnung Branche/Nutzer, Objektfläche m²]\nIndex: []",
      "text/html": "<div>\n<style scoped>\n    .dataframe tbody tr th:only-of-type {\n        vertical-align: middle;\n    }\n\n    .dataframe tbody tr th {\n        vertical-align: top;\n    }\n\n    .dataframe thead th {\n        text-align: right;\n    }\n</style>\n<table border=\"1\" class=\"dataframe\">\n  <thead>\n    <tr style=\"text-align: right;\">\n      <th></th>\n      <th>lfd. Nr.</th>\n      <th>PLZ</th>\n      <th>Ort</th>\n      <th>Straße</th>\n      <th>Nr</th>\n      <th>Geschäftsbereich (Art der Liegenschaft)</th>\n      <th>Bezeichnung Branche/Nutzer</th>\n      <th>Objektfläche m²</th>\n    </tr>\n  </thead>\n  <tbody>\n  </tbody>\n</table>\n</div>"
     },
     "execution_count": 11,
     "metadata": {},
     "output_type": "execute_result"
    }
   ],
   "source": [
    "df[df[\"lfd. Nr.\"].isnull()]"
   ],
   "metadata": {
    "collapsed": false,
    "pycharm": {
     "name": "#%%\n"
    }
   }
  },
  {
   "cell_type": "code",
   "execution_count": 12,
   "outputs": [],
   "source": [
    "# No IDs missing when importing from excel"
   ],
   "metadata": {
    "collapsed": false,
    "pycharm": {
     "name": "#%%\n"
    }
   }
  },
  {
   "cell_type": "markdown",
   "source": [
    "### 4. Check catgories"
   ],
   "metadata": {
    "collapsed": false
   }
  },
  {
   "cell_type": "code",
   "execution_count": 13,
   "outputs": [
    {
     "data": {
      "text/plain": "Dienstliegenschaften Bundeswehr    65020\nWohnen                             53977\nGewerbe/sonst. Nutzung             33889\nDienstliegenschaften               19369\nBundesforst                         7329\nVerwaltungsaufgaben                  604\nName: Geschäftsbereich (Art der Liegenschaft), dtype: int64"
     },
     "execution_count": 13,
     "metadata": {},
     "output_type": "execute_result"
    }
   ],
   "source": [
    "df[\"Geschäftsbereich (Art der Liegenschaft)\"].value_counts()"
   ],
   "metadata": {
    "collapsed": false,
    "pycharm": {
     "name": "#%%\n"
    }
   }
  },
  {
   "cell_type": "code",
   "execution_count": 14,
   "outputs": [],
   "source": [
    "# All there! Good"
   ],
   "metadata": {
    "collapsed": false,
    "pycharm": {
     "name": "#%%\n"
    }
   }
  },
  {
   "cell_type": "markdown",
   "source": [
    "### 5. Check Bezeichnung Branche/Nutzer"
   ],
   "metadata": {
    "collapsed": false
   }
  },
  {
   "cell_type": "code",
   "execution_count": 15,
   "outputs": [
    {
     "data": {
      "text/plain": "0                       61301\nBMVg.-Unterbringung     33545\nBundesanstalt THW        3099\nGeneralzolldirektion     2917\nBundespolizei            2054\n                        ...  \nBA kernt. EntsorgSic        1\nSonst. Bewilligungen        1\nBilat. Zusammenarb.         1\nEnergie u. Nachhalti        1\nKVdB                        1\nName: Bezeichnung Branche/Nutzer, Length: 105, dtype: int64"
     },
     "execution_count": 15,
     "metadata": {},
     "output_type": "execute_result"
    }
   ],
   "source": [
    "df[\"Bezeichnung Branche/Nutzer\"].value_counts()"
   ],
   "metadata": {
    "collapsed": false,
    "pycharm": {
     "name": "#%%\n"
    }
   }
  },
  {
   "cell_type": "code",
   "execution_count": 16,
   "outputs": [],
   "source": [
    "df[\"Bezeichnung Branche/Nutzer\"] = df[\"Bezeichnung Branche/Nutzer\"].fillna(\"Unbekannt\")\n",
    "df[\"Bezeichnung Branche/Nutzer\"] = df[\"Bezeichnung Branche/Nutzer\"].replace(\"0\", \"Unbekannt\")"
   ],
   "metadata": {
    "collapsed": false,
    "pycharm": {
     "name": "#%%\n"
    }
   }
  },
  {
   "cell_type": "code",
   "execution_count": 17,
   "outputs": [
    {
     "data": {
      "text/plain": "Unbekannt               132836\nBMVg.-Unterbringung      33545\nBundesanstalt THW         3099\nGeneralzolldirektion      2917\nBundespolizei             2054\n                         ...  \nBA kernt. EntsorgSic         1\nSonst. Bewilligungen         1\nBilat. Zusammenarb.          1\nEnergie u. Nachhalti         1\nKVdB                         1\nName: Bezeichnung Branche/Nutzer, Length: 105, dtype: int64"
     },
     "execution_count": 17,
     "metadata": {},
     "output_type": "execute_result"
    }
   ],
   "source": [
    "df[\"Bezeichnung Branche/Nutzer\"].value_counts()"
   ],
   "metadata": {
    "collapsed": false,
    "pycharm": {
     "name": "#%%\n"
    }
   }
  },
  {
   "cell_type": "markdown",
   "source": [
    "### 6. Convert data types"
   ],
   "metadata": {
    "collapsed": false
   }
  },
  {
   "cell_type": "code",
   "execution_count": 18,
   "outputs": [],
   "source": [
    "df[\"PLZ\"] = df[\"PLZ\"].str.strip()\n",
    "df[\"PLZ\"] = pd.to_numeric(df[\"PLZ\"]).astype(pd.Int64Dtype()) # Don't ask :D"
   ],
   "metadata": {
    "collapsed": false,
    "pycharm": {
     "name": "#%%\n"
    }
   }
  },
  {
   "cell_type": "code",
   "execution_count": 19,
   "outputs": [],
   "source": [
    "df[\"lfd. Nr.\"] = df[\"lfd. Nr.\"].astype(int)"
   ],
   "metadata": {
    "collapsed": false,
    "pycharm": {
     "name": "#%%\n"
    }
   }
  },
  {
   "cell_type": "code",
   "execution_count": 20,
   "outputs": [],
   "source": [
    "df[\"Objektfläche m²\"] = pd.to_numeric(df[\"Objektfläche m²\"])"
   ],
   "metadata": {
    "collapsed": false,
    "pycharm": {
     "name": "#%%\n"
    }
   }
  },
  {
   "cell_type": "markdown",
   "source": [
    "#### 7. Save Results"
   ],
   "metadata": {
    "collapsed": false
   }
  },
  {
   "cell_type": "code",
   "execution_count": 21,
   "outputs": [],
   "source": [
    "df.to_csv(\"Anlage.csv\",index=False)"
   ],
   "metadata": {
    "collapsed": false,
    "pycharm": {
     "name": "#%%\n"
    }
   }
  },
  {
   "cell_type": "code",
   "execution_count": 22,
   "outputs": [],
   "source": [
    "df.to_parquet(\"Anlage.parquet\")"
   ],
   "metadata": {
    "collapsed": false,
    "pycharm": {
     "name": "#%%\n"
    }
   }
  }
 ],
 "metadata": {
  "kernelspec": {
   "display_name": "Python 3",
   "language": "python",
   "name": "python3"
  },
  "language_info": {
   "codemirror_mode": {
    "name": "ipython",
    "version": 2
   },
   "file_extension": ".py",
   "mimetype": "text/x-python",
   "name": "python",
   "nbconvert_exporter": "python",
   "pygments_lexer": "ipython2",
   "version": "2.7.6"
  }
 },
 "nbformat": 4,
 "nbformat_minor": 0
}